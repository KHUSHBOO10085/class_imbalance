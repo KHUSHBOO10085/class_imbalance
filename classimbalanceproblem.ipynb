{
 "cells": [
  {
   "cell_type": "code",
   "execution_count": 1,
   "id": "6497858b",
   "metadata": {},
   "outputs": [],
   "source": [
    "import numpy as np\n",
    "import pandas as pd\n",
    "import warnings\n",
    "warnings.filterwarnings('ignore')"
   ]
  },
  {
   "cell_type": "code",
   "execution_count": 2,
   "id": "931f9295",
   "metadata": {},
   "outputs": [
    {
     "data": {
      "text/html": [
       "<div>\n",
       "<style scoped>\n",
       "    .dataframe tbody tr th:only-of-type {\n",
       "        vertical-align: middle;\n",
       "    }\n",
       "\n",
       "    .dataframe tbody tr th {\n",
       "        vertical-align: top;\n",
       "    }\n",
       "\n",
       "    .dataframe thead th {\n",
       "        text-align: right;\n",
       "    }\n",
       "</style>\n",
       "<table border=\"1\" class=\"dataframe\">\n",
       "  <thead>\n",
       "    <tr style=\"text-align: right;\">\n",
       "      <th></th>\n",
       "      <th>employee_id</th>\n",
       "      <th>department</th>\n",
       "      <th>region</th>\n",
       "      <th>education</th>\n",
       "      <th>gender</th>\n",
       "      <th>recruitment_channel</th>\n",
       "      <th>no_of_trainings</th>\n",
       "      <th>age</th>\n",
       "      <th>previous_year_rating</th>\n",
       "      <th>length_of_service</th>\n",
       "      <th>KPIs_met &gt;80%</th>\n",
       "      <th>awards_won?</th>\n",
       "      <th>avg_training_score</th>\n",
       "      <th>is_promoted</th>\n",
       "    </tr>\n",
       "  </thead>\n",
       "  <tbody>\n",
       "    <tr>\n",
       "      <th>0</th>\n",
       "      <td>65438</td>\n",
       "      <td>Sales &amp; Marketing</td>\n",
       "      <td>region_7</td>\n",
       "      <td>Master's &amp; above</td>\n",
       "      <td>f</td>\n",
       "      <td>sourcing</td>\n",
       "      <td>1</td>\n",
       "      <td>35</td>\n",
       "      <td>5.0</td>\n",
       "      <td>8</td>\n",
       "      <td>1</td>\n",
       "      <td>0</td>\n",
       "      <td>49</td>\n",
       "      <td>0</td>\n",
       "    </tr>\n",
       "    <tr>\n",
       "      <th>1</th>\n",
       "      <td>65141</td>\n",
       "      <td>Operations</td>\n",
       "      <td>region_22</td>\n",
       "      <td>Bachelor's</td>\n",
       "      <td>m</td>\n",
       "      <td>other</td>\n",
       "      <td>1</td>\n",
       "      <td>30</td>\n",
       "      <td>5.0</td>\n",
       "      <td>4</td>\n",
       "      <td>0</td>\n",
       "      <td>0</td>\n",
       "      <td>60</td>\n",
       "      <td>0</td>\n",
       "    </tr>\n",
       "    <tr>\n",
       "      <th>2</th>\n",
       "      <td>7513</td>\n",
       "      <td>Sales &amp; Marketing</td>\n",
       "      <td>region_19</td>\n",
       "      <td>Bachelor's</td>\n",
       "      <td>m</td>\n",
       "      <td>sourcing</td>\n",
       "      <td>1</td>\n",
       "      <td>34</td>\n",
       "      <td>3.0</td>\n",
       "      <td>7</td>\n",
       "      <td>0</td>\n",
       "      <td>0</td>\n",
       "      <td>50</td>\n",
       "      <td>0</td>\n",
       "    </tr>\n",
       "    <tr>\n",
       "      <th>3</th>\n",
       "      <td>2542</td>\n",
       "      <td>Sales &amp; Marketing</td>\n",
       "      <td>region_23</td>\n",
       "      <td>Bachelor's</td>\n",
       "      <td>m</td>\n",
       "      <td>other</td>\n",
       "      <td>2</td>\n",
       "      <td>39</td>\n",
       "      <td>1.0</td>\n",
       "      <td>10</td>\n",
       "      <td>0</td>\n",
       "      <td>0</td>\n",
       "      <td>50</td>\n",
       "      <td>0</td>\n",
       "    </tr>\n",
       "    <tr>\n",
       "      <th>4</th>\n",
       "      <td>48945</td>\n",
       "      <td>Technology</td>\n",
       "      <td>region_26</td>\n",
       "      <td>Bachelor's</td>\n",
       "      <td>m</td>\n",
       "      <td>other</td>\n",
       "      <td>1</td>\n",
       "      <td>45</td>\n",
       "      <td>3.0</td>\n",
       "      <td>2</td>\n",
       "      <td>0</td>\n",
       "      <td>0</td>\n",
       "      <td>73</td>\n",
       "      <td>0</td>\n",
       "    </tr>\n",
       "    <tr>\n",
       "      <th>...</th>\n",
       "      <td>...</td>\n",
       "      <td>...</td>\n",
       "      <td>...</td>\n",
       "      <td>...</td>\n",
       "      <td>...</td>\n",
       "      <td>...</td>\n",
       "      <td>...</td>\n",
       "      <td>...</td>\n",
       "      <td>...</td>\n",
       "      <td>...</td>\n",
       "      <td>...</td>\n",
       "      <td>...</td>\n",
       "      <td>...</td>\n",
       "      <td>...</td>\n",
       "    </tr>\n",
       "    <tr>\n",
       "      <th>54803</th>\n",
       "      <td>3030</td>\n",
       "      <td>Technology</td>\n",
       "      <td>region_14</td>\n",
       "      <td>Bachelor's</td>\n",
       "      <td>m</td>\n",
       "      <td>sourcing</td>\n",
       "      <td>1</td>\n",
       "      <td>48</td>\n",
       "      <td>3.0</td>\n",
       "      <td>17</td>\n",
       "      <td>0</td>\n",
       "      <td>0</td>\n",
       "      <td>78</td>\n",
       "      <td>0</td>\n",
       "    </tr>\n",
       "    <tr>\n",
       "      <th>54804</th>\n",
       "      <td>74592</td>\n",
       "      <td>Operations</td>\n",
       "      <td>region_27</td>\n",
       "      <td>Master's &amp; above</td>\n",
       "      <td>f</td>\n",
       "      <td>other</td>\n",
       "      <td>1</td>\n",
       "      <td>37</td>\n",
       "      <td>2.0</td>\n",
       "      <td>6</td>\n",
       "      <td>0</td>\n",
       "      <td>0</td>\n",
       "      <td>56</td>\n",
       "      <td>0</td>\n",
       "    </tr>\n",
       "    <tr>\n",
       "      <th>54805</th>\n",
       "      <td>13918</td>\n",
       "      <td>Analytics</td>\n",
       "      <td>region_1</td>\n",
       "      <td>Bachelor's</td>\n",
       "      <td>m</td>\n",
       "      <td>other</td>\n",
       "      <td>1</td>\n",
       "      <td>27</td>\n",
       "      <td>5.0</td>\n",
       "      <td>3</td>\n",
       "      <td>1</td>\n",
       "      <td>0</td>\n",
       "      <td>79</td>\n",
       "      <td>0</td>\n",
       "    </tr>\n",
       "    <tr>\n",
       "      <th>54806</th>\n",
       "      <td>13614</td>\n",
       "      <td>Sales &amp; Marketing</td>\n",
       "      <td>region_9</td>\n",
       "      <td>NaN</td>\n",
       "      <td>m</td>\n",
       "      <td>sourcing</td>\n",
       "      <td>1</td>\n",
       "      <td>29</td>\n",
       "      <td>1.0</td>\n",
       "      <td>2</td>\n",
       "      <td>0</td>\n",
       "      <td>0</td>\n",
       "      <td>45</td>\n",
       "      <td>0</td>\n",
       "    </tr>\n",
       "    <tr>\n",
       "      <th>54807</th>\n",
       "      <td>51526</td>\n",
       "      <td>HR</td>\n",
       "      <td>region_22</td>\n",
       "      <td>Bachelor's</td>\n",
       "      <td>m</td>\n",
       "      <td>other</td>\n",
       "      <td>1</td>\n",
       "      <td>27</td>\n",
       "      <td>1.0</td>\n",
       "      <td>5</td>\n",
       "      <td>0</td>\n",
       "      <td>0</td>\n",
       "      <td>49</td>\n",
       "      <td>0</td>\n",
       "    </tr>\n",
       "  </tbody>\n",
       "</table>\n",
       "<p>54808 rows × 14 columns</p>\n",
       "</div>"
      ],
      "text/plain": [
       "       employee_id         department     region         education gender  \\\n",
       "0            65438  Sales & Marketing   region_7  Master's & above      f   \n",
       "1            65141         Operations  region_22        Bachelor's      m   \n",
       "2             7513  Sales & Marketing  region_19        Bachelor's      m   \n",
       "3             2542  Sales & Marketing  region_23        Bachelor's      m   \n",
       "4            48945         Technology  region_26        Bachelor's      m   \n",
       "...            ...                ...        ...               ...    ...   \n",
       "54803         3030         Technology  region_14        Bachelor's      m   \n",
       "54804        74592         Operations  region_27  Master's & above      f   \n",
       "54805        13918          Analytics   region_1        Bachelor's      m   \n",
       "54806        13614  Sales & Marketing   region_9               NaN      m   \n",
       "54807        51526                 HR  region_22        Bachelor's      m   \n",
       "\n",
       "      recruitment_channel  no_of_trainings  age  previous_year_rating  \\\n",
       "0                sourcing                1   35                   5.0   \n",
       "1                   other                1   30                   5.0   \n",
       "2                sourcing                1   34                   3.0   \n",
       "3                   other                2   39                   1.0   \n",
       "4                   other                1   45                   3.0   \n",
       "...                   ...              ...  ...                   ...   \n",
       "54803            sourcing                1   48                   3.0   \n",
       "54804               other                1   37                   2.0   \n",
       "54805               other                1   27                   5.0   \n",
       "54806            sourcing                1   29                   1.0   \n",
       "54807               other                1   27                   1.0   \n",
       "\n",
       "       length_of_service  KPIs_met >80%  awards_won?  avg_training_score  \\\n",
       "0                      8              1            0                  49   \n",
       "1                      4              0            0                  60   \n",
       "2                      7              0            0                  50   \n",
       "3                     10              0            0                  50   \n",
       "4                      2              0            0                  73   \n",
       "...                  ...            ...          ...                 ...   \n",
       "54803                 17              0            0                  78   \n",
       "54804                  6              0            0                  56   \n",
       "54805                  3              1            0                  79   \n",
       "54806                  2              0            0                  45   \n",
       "54807                  5              0            0                  49   \n",
       "\n",
       "       is_promoted  \n",
       "0                0  \n",
       "1                0  \n",
       "2                0  \n",
       "3                0  \n",
       "4                0  \n",
       "...            ...  \n",
       "54803            0  \n",
       "54804            0  \n",
       "54805            0  \n",
       "54806            0  \n",
       "54807            0  \n",
       "\n",
       "[54808 rows x 14 columns]"
      ]
     },
     "execution_count": 2,
     "metadata": {},
     "output_type": "execute_result"
    }
   ],
   "source": [
    "data_train=pd.read_csv(r\"C:\\Users\\khush\\Downloads\\train_Hr.csv\")\n",
    "data_train"
   ]
  },
  {
   "cell_type": "code",
   "execution_count": 3,
   "id": "6527a918",
   "metadata": {},
   "outputs": [
    {
     "data": {
      "text/html": [
       "<div>\n",
       "<style scoped>\n",
       "    .dataframe tbody tr th:only-of-type {\n",
       "        vertical-align: middle;\n",
       "    }\n",
       "\n",
       "    .dataframe tbody tr th {\n",
       "        vertical-align: top;\n",
       "    }\n",
       "\n",
       "    .dataframe thead th {\n",
       "        text-align: right;\n",
       "    }\n",
       "</style>\n",
       "<table border=\"1\" class=\"dataframe\">\n",
       "  <thead>\n",
       "    <tr style=\"text-align: right;\">\n",
       "      <th></th>\n",
       "      <th>department</th>\n",
       "      <th>region</th>\n",
       "      <th>education</th>\n",
       "      <th>gender</th>\n",
       "      <th>recruitment_channel</th>\n",
       "      <th>no_of_trainings</th>\n",
       "      <th>age</th>\n",
       "      <th>previous_year_rating</th>\n",
       "      <th>length_of_service</th>\n",
       "      <th>KPIs_met &gt;80%</th>\n",
       "      <th>awards_won?</th>\n",
       "      <th>avg_training_score</th>\n",
       "      <th>is_promoted</th>\n",
       "    </tr>\n",
       "  </thead>\n",
       "  <tbody>\n",
       "    <tr>\n",
       "      <th>0</th>\n",
       "      <td>Sales &amp; Marketing</td>\n",
       "      <td>region_7</td>\n",
       "      <td>Master's &amp; above</td>\n",
       "      <td>f</td>\n",
       "      <td>sourcing</td>\n",
       "      <td>1</td>\n",
       "      <td>35</td>\n",
       "      <td>5.0</td>\n",
       "      <td>8</td>\n",
       "      <td>1</td>\n",
       "      <td>0</td>\n",
       "      <td>49</td>\n",
       "      <td>0</td>\n",
       "    </tr>\n",
       "    <tr>\n",
       "      <th>1</th>\n",
       "      <td>Operations</td>\n",
       "      <td>region_22</td>\n",
       "      <td>Bachelor's</td>\n",
       "      <td>m</td>\n",
       "      <td>other</td>\n",
       "      <td>1</td>\n",
       "      <td>30</td>\n",
       "      <td>5.0</td>\n",
       "      <td>4</td>\n",
       "      <td>0</td>\n",
       "      <td>0</td>\n",
       "      <td>60</td>\n",
       "      <td>0</td>\n",
       "    </tr>\n",
       "    <tr>\n",
       "      <th>2</th>\n",
       "      <td>Sales &amp; Marketing</td>\n",
       "      <td>region_19</td>\n",
       "      <td>Bachelor's</td>\n",
       "      <td>m</td>\n",
       "      <td>sourcing</td>\n",
       "      <td>1</td>\n",
       "      <td>34</td>\n",
       "      <td>3.0</td>\n",
       "      <td>7</td>\n",
       "      <td>0</td>\n",
       "      <td>0</td>\n",
       "      <td>50</td>\n",
       "      <td>0</td>\n",
       "    </tr>\n",
       "    <tr>\n",
       "      <th>3</th>\n",
       "      <td>Sales &amp; Marketing</td>\n",
       "      <td>region_23</td>\n",
       "      <td>Bachelor's</td>\n",
       "      <td>m</td>\n",
       "      <td>other</td>\n",
       "      <td>2</td>\n",
       "      <td>39</td>\n",
       "      <td>1.0</td>\n",
       "      <td>10</td>\n",
       "      <td>0</td>\n",
       "      <td>0</td>\n",
       "      <td>50</td>\n",
       "      <td>0</td>\n",
       "    </tr>\n",
       "    <tr>\n",
       "      <th>4</th>\n",
       "      <td>Technology</td>\n",
       "      <td>region_26</td>\n",
       "      <td>Bachelor's</td>\n",
       "      <td>m</td>\n",
       "      <td>other</td>\n",
       "      <td>1</td>\n",
       "      <td>45</td>\n",
       "      <td>3.0</td>\n",
       "      <td>2</td>\n",
       "      <td>0</td>\n",
       "      <td>0</td>\n",
       "      <td>73</td>\n",
       "      <td>0</td>\n",
       "    </tr>\n",
       "    <tr>\n",
       "      <th>...</th>\n",
       "      <td>...</td>\n",
       "      <td>...</td>\n",
       "      <td>...</td>\n",
       "      <td>...</td>\n",
       "      <td>...</td>\n",
       "      <td>...</td>\n",
       "      <td>...</td>\n",
       "      <td>...</td>\n",
       "      <td>...</td>\n",
       "      <td>...</td>\n",
       "      <td>...</td>\n",
       "      <td>...</td>\n",
       "      <td>...</td>\n",
       "    </tr>\n",
       "    <tr>\n",
       "      <th>54803</th>\n",
       "      <td>Technology</td>\n",
       "      <td>region_14</td>\n",
       "      <td>Bachelor's</td>\n",
       "      <td>m</td>\n",
       "      <td>sourcing</td>\n",
       "      <td>1</td>\n",
       "      <td>48</td>\n",
       "      <td>3.0</td>\n",
       "      <td>17</td>\n",
       "      <td>0</td>\n",
       "      <td>0</td>\n",
       "      <td>78</td>\n",
       "      <td>0</td>\n",
       "    </tr>\n",
       "    <tr>\n",
       "      <th>54804</th>\n",
       "      <td>Operations</td>\n",
       "      <td>region_27</td>\n",
       "      <td>Master's &amp; above</td>\n",
       "      <td>f</td>\n",
       "      <td>other</td>\n",
       "      <td>1</td>\n",
       "      <td>37</td>\n",
       "      <td>2.0</td>\n",
       "      <td>6</td>\n",
       "      <td>0</td>\n",
       "      <td>0</td>\n",
       "      <td>56</td>\n",
       "      <td>0</td>\n",
       "    </tr>\n",
       "    <tr>\n",
       "      <th>54805</th>\n",
       "      <td>Analytics</td>\n",
       "      <td>region_1</td>\n",
       "      <td>Bachelor's</td>\n",
       "      <td>m</td>\n",
       "      <td>other</td>\n",
       "      <td>1</td>\n",
       "      <td>27</td>\n",
       "      <td>5.0</td>\n",
       "      <td>3</td>\n",
       "      <td>1</td>\n",
       "      <td>0</td>\n",
       "      <td>79</td>\n",
       "      <td>0</td>\n",
       "    </tr>\n",
       "    <tr>\n",
       "      <th>54806</th>\n",
       "      <td>Sales &amp; Marketing</td>\n",
       "      <td>region_9</td>\n",
       "      <td>NaN</td>\n",
       "      <td>m</td>\n",
       "      <td>sourcing</td>\n",
       "      <td>1</td>\n",
       "      <td>29</td>\n",
       "      <td>1.0</td>\n",
       "      <td>2</td>\n",
       "      <td>0</td>\n",
       "      <td>0</td>\n",
       "      <td>45</td>\n",
       "      <td>0</td>\n",
       "    </tr>\n",
       "    <tr>\n",
       "      <th>54807</th>\n",
       "      <td>HR</td>\n",
       "      <td>region_22</td>\n",
       "      <td>Bachelor's</td>\n",
       "      <td>m</td>\n",
       "      <td>other</td>\n",
       "      <td>1</td>\n",
       "      <td>27</td>\n",
       "      <td>1.0</td>\n",
       "      <td>5</td>\n",
       "      <td>0</td>\n",
       "      <td>0</td>\n",
       "      <td>49</td>\n",
       "      <td>0</td>\n",
       "    </tr>\n",
       "  </tbody>\n",
       "</table>\n",
       "<p>54808 rows × 13 columns</p>\n",
       "</div>"
      ],
      "text/plain": [
       "              department     region         education gender  \\\n",
       "0      Sales & Marketing   region_7  Master's & above      f   \n",
       "1             Operations  region_22        Bachelor's      m   \n",
       "2      Sales & Marketing  region_19        Bachelor's      m   \n",
       "3      Sales & Marketing  region_23        Bachelor's      m   \n",
       "4             Technology  region_26        Bachelor's      m   \n",
       "...                  ...        ...               ...    ...   \n",
       "54803         Technology  region_14        Bachelor's      m   \n",
       "54804         Operations  region_27  Master's & above      f   \n",
       "54805          Analytics   region_1        Bachelor's      m   \n",
       "54806  Sales & Marketing   region_9               NaN      m   \n",
       "54807                 HR  region_22        Bachelor's      m   \n",
       "\n",
       "      recruitment_channel  no_of_trainings  age  previous_year_rating  \\\n",
       "0                sourcing                1   35                   5.0   \n",
       "1                   other                1   30                   5.0   \n",
       "2                sourcing                1   34                   3.0   \n",
       "3                   other                2   39                   1.0   \n",
       "4                   other                1   45                   3.0   \n",
       "...                   ...              ...  ...                   ...   \n",
       "54803            sourcing                1   48                   3.0   \n",
       "54804               other                1   37                   2.0   \n",
       "54805               other                1   27                   5.0   \n",
       "54806            sourcing                1   29                   1.0   \n",
       "54807               other                1   27                   1.0   \n",
       "\n",
       "       length_of_service  KPIs_met >80%  awards_won?  avg_training_score  \\\n",
       "0                      8              1            0                  49   \n",
       "1                      4              0            0                  60   \n",
       "2                      7              0            0                  50   \n",
       "3                     10              0            0                  50   \n",
       "4                      2              0            0                  73   \n",
       "...                  ...            ...          ...                 ...   \n",
       "54803                 17              0            0                  78   \n",
       "54804                  6              0            0                  56   \n",
       "54805                  3              1            0                  79   \n",
       "54806                  2              0            0                  45   \n",
       "54807                  5              0            0                  49   \n",
       "\n",
       "       is_promoted  \n",
       "0                0  \n",
       "1                0  \n",
       "2                0  \n",
       "3                0  \n",
       "4                0  \n",
       "...            ...  \n",
       "54803            0  \n",
       "54804            0  \n",
       "54805            0  \n",
       "54806            0  \n",
       "54807            0  \n",
       "\n",
       "[54808 rows x 13 columns]"
      ]
     },
     "execution_count": 3,
     "metadata": {},
     "output_type": "execute_result"
    }
   ],
   "source": [
    "data_train=data_train.drop([\"employee_id\"],axis=1)\n",
    "data_train"
   ]
  },
  {
   "cell_type": "code",
   "execution_count": 4,
   "id": "e6af8104",
   "metadata": {},
   "outputs": [],
   "source": [
    "data_train=data_train.rename(columns={\"awards_won?\":\"awardswon\"})"
   ]
  },
  {
   "cell_type": "code",
   "execution_count": 5,
   "id": "bcbd67fe",
   "metadata": {},
   "outputs": [
    {
     "data": {
      "text/plain": [
       "department                 0\n",
       "region                     0\n",
       "education               2409\n",
       "gender                     0\n",
       "recruitment_channel        0\n",
       "no_of_trainings            0\n",
       "age                        0\n",
       "previous_year_rating    4124\n",
       "length_of_service          0\n",
       "KPIs_met >80%              0\n",
       "awardswon                  0\n",
       "avg_training_score         0\n",
       "is_promoted                0\n",
       "dtype: int64"
      ]
     },
     "execution_count": 5,
     "metadata": {},
     "output_type": "execute_result"
    }
   ],
   "source": [
    "data_train.isnull().sum()"
   ]
  },
  {
   "cell_type": "code",
   "execution_count": 6,
   "id": "f89c8c69",
   "metadata": {},
   "outputs": [],
   "source": [
    "data_train.education=data_train.education.fillna(\"Below Secondary\")\n",
    "data_train.previous_year_rating=data_train.previous_year_rating.fillna(2.0)"
   ]
  },
  {
   "cell_type": "code",
   "execution_count": 7,
   "id": "d507b074",
   "metadata": {},
   "outputs": [
    {
     "data": {
      "text/plain": [
       "department              0\n",
       "region                  0\n",
       "education               0\n",
       "gender                  0\n",
       "recruitment_channel     0\n",
       "no_of_trainings         0\n",
       "age                     0\n",
       "previous_year_rating    0\n",
       "length_of_service       0\n",
       "KPIs_met >80%           0\n",
       "awardswon               0\n",
       "avg_training_score      0\n",
       "is_promoted             0\n",
       "dtype: int64"
      ]
     },
     "execution_count": 7,
     "metadata": {},
     "output_type": "execute_result"
    }
   ],
   "source": [
    "data_train.isnull().sum()"
   ]
  },
  {
   "cell_type": "code",
   "execution_count": 8,
   "id": "b1326f94",
   "metadata": {},
   "outputs": [
    {
     "data": {
      "text/plain": [
       "department               object\n",
       "region                   object\n",
       "education                object\n",
       "gender                   object\n",
       "recruitment_channel      object\n",
       "no_of_trainings           int64\n",
       "age                       int64\n",
       "previous_year_rating    float64\n",
       "length_of_service         int64\n",
       "KPIs_met >80%             int64\n",
       "awardswon                 int64\n",
       "avg_training_score        int64\n",
       "is_promoted               int64\n",
       "dtype: object"
      ]
     },
     "execution_count": 8,
     "metadata": {},
     "output_type": "execute_result"
    }
   ],
   "source": [
    "data_train.dtypes"
   ]
  },
  {
   "cell_type": "code",
   "execution_count": 9,
   "id": "b84af246",
   "metadata": {},
   "outputs": [],
   "source": [
    "from sklearn.preprocessing import LabelEncoder\n",
    "le=LabelEncoder()"
   ]
  },
  {
   "cell_type": "code",
   "execution_count": 10,
   "id": "48bc94ab",
   "metadata": {},
   "outputs": [],
   "source": [
    "data_train.department=le.fit_transform(data_train.department)\n",
    "data_train.region=le.fit_transform(data_train.region)\n",
    "data_train.education=le.fit_transform(data_train.education)\n",
    "data_train.gender=le.fit_transform(data_train.gender)\n",
    "data_train.recruitment_channel=le.fit_transform(data_train.recruitment_channel)"
   ]
  },
  {
   "cell_type": "code",
   "execution_count": 11,
   "id": "963bde0b",
   "metadata": {},
   "outputs": [
    {
     "data": {
      "text/plain": [
       "department                int32\n",
       "region                    int32\n",
       "education                 int32\n",
       "gender                    int32\n",
       "recruitment_channel       int32\n",
       "no_of_trainings           int64\n",
       "age                       int64\n",
       "previous_year_rating    float64\n",
       "length_of_service         int64\n",
       "KPIs_met >80%             int64\n",
       "awardswon                 int64\n",
       "avg_training_score        int64\n",
       "is_promoted               int64\n",
       "dtype: object"
      ]
     },
     "execution_count": 11,
     "metadata": {},
     "output_type": "execute_result"
    }
   ],
   "source": [
    "data_train.dtypes"
   ]
  },
  {
   "cell_type": "code",
   "execution_count": 12,
   "id": "e96df80b",
   "metadata": {},
   "outputs": [
    {
     "data": {
      "text/plain": [
       "0    50140\n",
       "1     4668\n",
       "Name: is_promoted, dtype: int64"
      ]
     },
     "execution_count": 12,
     "metadata": {},
     "output_type": "execute_result"
    }
   ],
   "source": [
    "data_train.is_promoted.value_counts()"
   ]
  },
  {
   "cell_type": "markdown",
   "id": "0bc7ff22",
   "metadata": {},
   "source": [
    "# Random undersampling"
   ]
  },
  {
   "cell_type": "code",
   "execution_count": 13,
   "id": "a9a081d3",
   "metadata": {},
   "outputs": [
    {
     "data": {
      "text/plain": [
       "0    50140\n",
       "1     4668\n",
       "Name: is_promoted, dtype: int64"
      ]
     },
     "execution_count": 13,
     "metadata": {},
     "output_type": "execute_result"
    }
   ],
   "source": [
    "data_train.is_promoted.value_counts()#imbalance data"
   ]
  },
  {
   "cell_type": "code",
   "execution_count": 14,
   "id": "94c48a9e",
   "metadata": {},
   "outputs": [
    {
     "data": {
      "text/plain": [
       "(50140, 4668)"
      ]
     },
     "execution_count": 14,
     "metadata": {},
     "output_type": "execute_result"
    }
   ],
   "source": [
    "c_0,c_1=data_train[\"is_promoted\"].value_counts()\n",
    "c_0,c_1"
   ]
  },
  {
   "cell_type": "code",
   "execution_count": 15,
   "id": "e6f80906",
   "metadata": {},
   "outputs": [
    {
     "data": {
      "text/plain": [
       "((50140, 13), (4668, 13))"
      ]
     },
     "execution_count": 15,
     "metadata": {},
     "output_type": "execute_result"
    }
   ],
   "source": [
    "train_0=data_train[data_train[\"is_promoted\"]==0]\n",
    "train_1=data_train[data_train[\"is_promoted\"]==1]\n",
    "train_0.shape,train_1.shape"
   ]
  },
  {
   "cell_type": "code",
   "execution_count": 16,
   "id": "82801bd2",
   "metadata": {},
   "outputs": [],
   "source": [
    "#train_1.head(2)"
   ]
  },
  {
   "cell_type": "code",
   "execution_count": 17,
   "id": "502adab1",
   "metadata": {},
   "outputs": [],
   "source": [
    "class_0under=train_0.sample(c_1)"
   ]
  },
  {
   "cell_type": "code",
   "execution_count": 18,
   "id": "087ada8a",
   "metadata": {},
   "outputs": [
    {
     "data": {
      "text/plain": [
       "((4668, 13), (4668, 13))"
      ]
     },
     "execution_count": 18,
     "metadata": {},
     "output_type": "execute_result"
    }
   ],
   "source": [
    "class_0under.shape,train_1.shape"
   ]
  },
  {
   "cell_type": "code",
   "execution_count": 19,
   "id": "1d6c9091",
   "metadata": {},
   "outputs": [
    {
     "data": {
      "text/plain": [
       "(9336, 13)"
      ]
     },
     "execution_count": 19,
     "metadata": {},
     "output_type": "execute_result"
    }
   ],
   "source": [
    "class0_1=pd.concat([class_0under,train_1],axis=0)\n",
    "class0_1.head()\n",
    "class0_1.shape"
   ]
  },
  {
   "cell_type": "code",
   "execution_count": 20,
   "id": "73a8cdc6",
   "metadata": {},
   "outputs": [
    {
     "data": {
      "text/plain": [
       "0    4668\n",
       "1    4668\n",
       "Name: is_promoted, dtype: int64"
      ]
     },
     "execution_count": 20,
     "metadata": {},
     "output_type": "execute_result"
    }
   ],
   "source": [
    "class0_1.is_promoted.value_counts()"
   ]
  },
  {
   "cell_type": "code",
   "execution_count": 21,
   "id": "b50cde6f",
   "metadata": {},
   "outputs": [],
   "source": [
    "x=class0_1.iloc[:,0:-1]\n",
    "y=class0_1.iloc[:,-1]"
   ]
  },
  {
   "cell_type": "code",
   "execution_count": 22,
   "id": "c90ff4a9",
   "metadata": {},
   "outputs": [],
   "source": [
    "from sklearn.model_selection import train_test_split\n",
    "xtr,xte,ytr,yte=train_test_split(x,y,test_size=0.2,random_state=100)"
   ]
  },
  {
   "cell_type": "code",
   "execution_count": 23,
   "id": "0cdda838",
   "metadata": {},
   "outputs": [
    {
     "data": {
      "text/plain": [
       "((7468, 12), (1868, 12), (7468,), (1868,))"
      ]
     },
     "execution_count": 23,
     "metadata": {},
     "output_type": "execute_result"
    }
   ],
   "source": [
    "xtr.shape,xte.shape,ytr.shape,yte.shape"
   ]
  },
  {
   "cell_type": "markdown",
   "id": "8a88fd11",
   "metadata": {},
   "source": [
    "# Logistic Regression-Random Undersampling"
   ]
  },
  {
   "cell_type": "code",
   "execution_count": 24,
   "id": "b6315614",
   "metadata": {},
   "outputs": [],
   "source": [
    "from sklearn.metrics import confusion_matrix\n",
    "from sklearn.metrics import classification_report"
   ]
  },
  {
   "cell_type": "markdown",
   "id": "9f636025",
   "metadata": {},
   "source": [
    "# LogisticRegression"
   ]
  },
  {
   "cell_type": "code",
   "execution_count": 25,
   "id": "466d7aeb",
   "metadata": {},
   "outputs": [],
   "source": [
    "from sklearn.linear_model import LogisticRegression\n",
    "lg=LogisticRegression()"
   ]
  },
  {
   "cell_type": "code",
   "execution_count": 26,
   "id": "dc41a402",
   "metadata": {},
   "outputs": [
    {
     "data": {
      "text/plain": [
       "LogisticRegression()"
      ]
     },
     "execution_count": 26,
     "metadata": {},
     "output_type": "execute_result"
    }
   ],
   "source": [
    "lg.fit(xtr,ytr)"
   ]
  },
  {
   "cell_type": "code",
   "execution_count": 27,
   "id": "b175ba00",
   "metadata": {},
   "outputs": [
    {
     "data": {
      "text/plain": [
       "array([0, 0, 0, ..., 1, 1, 1], dtype=int64)"
      ]
     },
     "execution_count": 27,
     "metadata": {},
     "output_type": "execute_result"
    }
   ],
   "source": [
    "p1=lg.predict(xte)\n",
    "p1"
   ]
  },
  {
   "cell_type": "code",
   "execution_count": 28,
   "id": "a618864a",
   "metadata": {},
   "outputs": [],
   "source": [
    "prob=lg.predict_proba(xte)"
   ]
  },
  {
   "cell_type": "code",
   "execution_count": 29,
   "id": "fff2d269",
   "metadata": {},
   "outputs": [
    {
     "data": {
      "text/html": [
       "<div>\n",
       "<style scoped>\n",
       "    .dataframe tbody tr th:only-of-type {\n",
       "        vertical-align: middle;\n",
       "    }\n",
       "\n",
       "    .dataframe tbody tr th {\n",
       "        vertical-align: top;\n",
       "    }\n",
       "\n",
       "    .dataframe thead th {\n",
       "        text-align: right;\n",
       "    }\n",
       "</style>\n",
       "<table border=\"1\" class=\"dataframe\">\n",
       "  <thead>\n",
       "    <tr style=\"text-align: right;\">\n",
       "      <th></th>\n",
       "      <th>0</th>\n",
       "      <th>1</th>\n",
       "    </tr>\n",
       "  </thead>\n",
       "  <tbody>\n",
       "    <tr>\n",
       "      <th>0</th>\n",
       "      <td>0.816141</td>\n",
       "      <td>0.183859</td>\n",
       "    </tr>\n",
       "    <tr>\n",
       "      <th>1</th>\n",
       "      <td>0.516378</td>\n",
       "      <td>0.483622</td>\n",
       "    </tr>\n",
       "    <tr>\n",
       "      <th>2</th>\n",
       "      <td>0.771646</td>\n",
       "      <td>0.228354</td>\n",
       "    </tr>\n",
       "    <tr>\n",
       "      <th>3</th>\n",
       "      <td>0.640233</td>\n",
       "      <td>0.359767</td>\n",
       "    </tr>\n",
       "    <tr>\n",
       "      <th>4</th>\n",
       "      <td>0.830387</td>\n",
       "      <td>0.169613</td>\n",
       "    </tr>\n",
       "    <tr>\n",
       "      <th>...</th>\n",
       "      <td>...</td>\n",
       "      <td>...</td>\n",
       "    </tr>\n",
       "    <tr>\n",
       "      <th>1863</th>\n",
       "      <td>0.437057</td>\n",
       "      <td>0.562943</td>\n",
       "    </tr>\n",
       "    <tr>\n",
       "      <th>1864</th>\n",
       "      <td>0.607106</td>\n",
       "      <td>0.392894</td>\n",
       "    </tr>\n",
       "    <tr>\n",
       "      <th>1865</th>\n",
       "      <td>0.416052</td>\n",
       "      <td>0.583948</td>\n",
       "    </tr>\n",
       "    <tr>\n",
       "      <th>1866</th>\n",
       "      <td>0.462119</td>\n",
       "      <td>0.537881</td>\n",
       "    </tr>\n",
       "    <tr>\n",
       "      <th>1867</th>\n",
       "      <td>0.110230</td>\n",
       "      <td>0.889770</td>\n",
       "    </tr>\n",
       "  </tbody>\n",
       "</table>\n",
       "<p>1868 rows × 2 columns</p>\n",
       "</div>"
      ],
      "text/plain": [
       "             0         1\n",
       "0     0.816141  0.183859\n",
       "1     0.516378  0.483622\n",
       "2     0.771646  0.228354\n",
       "3     0.640233  0.359767\n",
       "4     0.830387  0.169613\n",
       "...        ...       ...\n",
       "1863  0.437057  0.562943\n",
       "1864  0.607106  0.392894\n",
       "1865  0.416052  0.583948\n",
       "1866  0.462119  0.537881\n",
       "1867  0.110230  0.889770\n",
       "\n",
       "[1868 rows x 2 columns]"
      ]
     },
     "execution_count": 29,
     "metadata": {},
     "output_type": "execute_result"
    }
   ],
   "source": [
    "df=pd.DataFrame(prob)\n",
    "df"
   ]
  },
  {
   "cell_type": "code",
   "execution_count": 30,
   "id": "e83aaf16",
   "metadata": {},
   "outputs": [
    {
     "data": {
      "text/plain": [
       "array([[660, 281],\n",
       "       [245, 682]], dtype=int64)"
      ]
     },
     "execution_count": 30,
     "metadata": {},
     "output_type": "execute_result"
    }
   ],
   "source": [
    "from sklearn.metrics import confusion_matrix\n",
    "cf1=confusion_matrix(yte,p1)\n",
    "cf1"
   ]
  },
  {
   "cell_type": "code",
   "execution_count": 31,
   "id": "d5ee990e",
   "metadata": {},
   "outputs": [
    {
     "data": {
      "text/plain": [
       "71.84154175588866"
      ]
     },
     "execution_count": 31,
     "metadata": {},
     "output_type": "execute_result"
    }
   ],
   "source": [
    "ac1=cf1.diagonal().sum()/cf1.sum()*100\n",
    "ac1"
   ]
  },
  {
   "cell_type": "code",
   "execution_count": 32,
   "id": "86483560",
   "metadata": {},
   "outputs": [
    {
     "name": "stdout",
     "output_type": "stream",
     "text": [
      "              precision    recall  f1-score   support\n",
      "\n",
      "           0       0.73      0.70      0.72       941\n",
      "           1       0.71      0.74      0.72       927\n",
      "\n",
      "    accuracy                           0.72      1868\n",
      "   macro avg       0.72      0.72      0.72      1868\n",
      "weighted avg       0.72      0.72      0.72      1868\n",
      "\n"
     ]
    }
   ],
   "source": [
    "print(classification_report(yte,p1)) "
   ]
  },
  {
   "cell_type": "markdown",
   "id": "28845995",
   "metadata": {},
   "source": [
    "# Random Forest"
   ]
  },
  {
   "cell_type": "code",
   "execution_count": 33,
   "id": "c07385f5",
   "metadata": {},
   "outputs": [],
   "source": [
    "from sklearn.ensemble import RandomForestClassifier\n",
    "rf=RandomForestClassifier()"
   ]
  },
  {
   "cell_type": "code",
   "execution_count": 34,
   "id": "4aeae57e",
   "metadata": {},
   "outputs": [
    {
     "data": {
      "text/plain": [
       "RandomForestClassifier()"
      ]
     },
     "execution_count": 34,
     "metadata": {},
     "output_type": "execute_result"
    }
   ],
   "source": [
    "rf.fit(xtr,ytr)"
   ]
  },
  {
   "cell_type": "code",
   "execution_count": 35,
   "id": "bf2ca6b0",
   "metadata": {},
   "outputs": [],
   "source": [
    "rf_p=rf.predict(xte)"
   ]
  },
  {
   "cell_type": "code",
   "execution_count": 36,
   "id": "eba47e6b",
   "metadata": {},
   "outputs": [
    {
     "data": {
      "text/plain": [
       "array([[685, 256],\n",
       "       [121, 806]], dtype=int64)"
      ]
     },
     "execution_count": 36,
     "metadata": {},
     "output_type": "execute_result"
    }
   ],
   "source": [
    "rf_c=confusion_matrix(yte,rf_p)\n",
    "rf_c"
   ]
  },
  {
   "cell_type": "code",
   "execution_count": 37,
   "id": "fec29473",
   "metadata": {},
   "outputs": [
    {
     "data": {
      "text/plain": [
       "79.81798715203426"
      ]
     },
     "execution_count": 37,
     "metadata": {},
     "output_type": "execute_result"
    }
   ],
   "source": [
    "rf_ac=rf_c.diagonal().sum()/rf_c.sum()*100\n",
    "rf_ac"
   ]
  },
  {
   "cell_type": "code",
   "execution_count": 38,
   "id": "86ee7431",
   "metadata": {},
   "outputs": [
    {
     "name": "stdout",
     "output_type": "stream",
     "text": [
      "              precision    recall  f1-score   support\n",
      "\n",
      "           0       0.85      0.73      0.78       941\n",
      "           1       0.76      0.87      0.81       927\n",
      "\n",
      "    accuracy                           0.80      1868\n",
      "   macro avg       0.80      0.80      0.80      1868\n",
      "weighted avg       0.80      0.80      0.80      1868\n",
      "\n"
     ]
    }
   ],
   "source": [
    "print(classification_report(yte,rf_p))"
   ]
  },
  {
   "cell_type": "markdown",
   "id": "080e6d8e",
   "metadata": {},
   "source": [
    "# KNN"
   ]
  },
  {
   "cell_type": "code",
   "execution_count": 39,
   "id": "6734781d",
   "metadata": {},
   "outputs": [],
   "source": [
    "from sklearn.neighbors import KNeighborsClassifier\n",
    "knn=KNeighborsClassifier()"
   ]
  },
  {
   "cell_type": "code",
   "execution_count": 40,
   "id": "6bda400c",
   "metadata": {},
   "outputs": [
    {
     "data": {
      "text/plain": [
       "KNeighborsClassifier()"
      ]
     },
     "execution_count": 40,
     "metadata": {},
     "output_type": "execute_result"
    }
   ],
   "source": [
    "knn.fit(xtr,ytr)"
   ]
  },
  {
   "cell_type": "code",
   "execution_count": 41,
   "id": "10673821",
   "metadata": {},
   "outputs": [],
   "source": [
    "knn_p=knn.predict(xte)"
   ]
  },
  {
   "cell_type": "code",
   "execution_count": 42,
   "id": "4c9d441b",
   "metadata": {},
   "outputs": [
    {
     "data": {
      "text/plain": [
       "array([[651, 290],\n",
       "       [360, 567]], dtype=int64)"
      ]
     },
     "execution_count": 42,
     "metadata": {},
     "output_type": "execute_result"
    }
   ],
   "source": [
    "knn_c1=confusion_matrix(yte,knn_p)\n",
    "knn_c1"
   ]
  },
  {
   "cell_type": "code",
   "execution_count": 43,
   "id": "b8f59671",
   "metadata": {},
   "outputs": [
    {
     "data": {
      "text/plain": [
       "65.20342612419701"
      ]
     },
     "execution_count": 43,
     "metadata": {},
     "output_type": "execute_result"
    }
   ],
   "source": [
    "knn_ac1=knn_c1.diagonal().sum()/knn_c1.sum()*100\n",
    "knn_ac1"
   ]
  },
  {
   "cell_type": "code",
   "execution_count": 44,
   "id": "882f412b",
   "metadata": {},
   "outputs": [
    {
     "name": "stdout",
     "output_type": "stream",
     "text": [
      "              precision    recall  f1-score   support\n",
      "\n",
      "           0       0.64      0.69      0.67       941\n",
      "           1       0.66      0.61      0.64       927\n",
      "\n",
      "    accuracy                           0.65      1868\n",
      "   macro avg       0.65      0.65      0.65      1868\n",
      "weighted avg       0.65      0.65      0.65      1868\n",
      "\n"
     ]
    }
   ],
   "source": [
    "print(classification_report(yte,knn_p))"
   ]
  },
  {
   "cell_type": "code",
   "execution_count": null,
   "id": "6685733c",
   "metadata": {},
   "outputs": [],
   "source": []
  },
  {
   "cell_type": "markdown",
   "id": "ddf0b2d0",
   "metadata": {},
   "source": [
    "# XGB"
   ]
  },
  {
   "cell_type": "code",
   "execution_count": 45,
   "id": "36e7c793",
   "metadata": {},
   "outputs": [],
   "source": [
    "import xgboost\n",
    "from xgboost import XGBClassifier"
   ]
  },
  {
   "cell_type": "code",
   "execution_count": 46,
   "id": "61994095",
   "metadata": {},
   "outputs": [],
   "source": [
    "xgb=XGBClassifier()"
   ]
  },
  {
   "cell_type": "code",
   "execution_count": 47,
   "id": "48200919",
   "metadata": {},
   "outputs": [
    {
     "data": {
      "text/plain": [
       "XGBClassifier(base_score=None, booster=None, callbacks=None,\n",
       "              colsample_bylevel=None, colsample_bynode=None,\n",
       "              colsample_bytree=None, early_stopping_rounds=None,\n",
       "              enable_categorical=False, eval_metric=None, feature_types=None,\n",
       "              gamma=None, gpu_id=None, grow_policy=None, importance_type=None,\n",
       "              interaction_constraints=None, learning_rate=None, max_bin=None,\n",
       "              max_cat_threshold=None, max_cat_to_onehot=None,\n",
       "              max_delta_step=None, max_depth=None, max_leaves=None,\n",
       "              min_child_weight=None, missing=nan, monotone_constraints=None,\n",
       "              n_estimators=100, n_jobs=None, num_parallel_tree=None,\n",
       "              predictor=None, random_state=None, ...)"
      ]
     },
     "execution_count": 47,
     "metadata": {},
     "output_type": "execute_result"
    }
   ],
   "source": [
    "xgb.fit(xtr,ytr)"
   ]
  },
  {
   "cell_type": "code",
   "execution_count": 48,
   "id": "e036adf0",
   "metadata": {},
   "outputs": [],
   "source": [
    "xgb_p=xgb.predict(xte)"
   ]
  },
  {
   "cell_type": "code",
   "execution_count": 49,
   "id": "93685c82",
   "metadata": {},
   "outputs": [
    {
     "data": {
      "text/plain": [
       "array([[721, 220],\n",
       "       [137, 790]], dtype=int64)"
      ]
     },
     "execution_count": 49,
     "metadata": {},
     "output_type": "execute_result"
    }
   ],
   "source": [
    "xgb_c=confusion_matrix(yte,xgb_p)\n",
    "xgb_c"
   ]
  },
  {
   "cell_type": "code",
   "execution_count": 50,
   "id": "c54e31e2",
   "metadata": {},
   "outputs": [
    {
     "data": {
      "text/plain": [
       "80.88865096359743"
      ]
     },
     "execution_count": 50,
     "metadata": {},
     "output_type": "execute_result"
    }
   ],
   "source": [
    "xgb_ac=xgb_c.diagonal().sum()/xgb_c.sum()*100\n",
    "xgb_ac"
   ]
  },
  {
   "cell_type": "code",
   "execution_count": 51,
   "id": "244e276e",
   "metadata": {},
   "outputs": [
    {
     "name": "stdout",
     "output_type": "stream",
     "text": [
      "              precision    recall  f1-score   support\n",
      "\n",
      "           0       0.84      0.77      0.80       941\n",
      "           1       0.78      0.85      0.82       927\n",
      "\n",
      "    accuracy                           0.81      1868\n",
      "   macro avg       0.81      0.81      0.81      1868\n",
      "weighted avg       0.81      0.81      0.81      1868\n",
      "\n"
     ]
    }
   ],
   "source": [
    "print(classification_report(yte,xgb_p))"
   ]
  },
  {
   "cell_type": "code",
   "execution_count": null,
   "id": "6a255805",
   "metadata": {},
   "outputs": [],
   "source": []
  },
  {
   "cell_type": "markdown",
   "id": "4b75a17f",
   "metadata": {},
   "source": [
    "# DT-Random Undersampling"
   ]
  },
  {
   "cell_type": "code",
   "execution_count": 52,
   "id": "349b270a",
   "metadata": {},
   "outputs": [],
   "source": [
    "from sklearn.tree import DecisionTreeClassifier\n",
    "dt=DecisionTreeClassifier()"
   ]
  },
  {
   "cell_type": "code",
   "execution_count": 53,
   "id": "e2e3df43",
   "metadata": {},
   "outputs": [
    {
     "data": {
      "text/plain": [
       "DecisionTreeClassifier()"
      ]
     },
     "execution_count": 53,
     "metadata": {},
     "output_type": "execute_result"
    }
   ],
   "source": [
    "dt.fit(xtr,ytr)"
   ]
  },
  {
   "cell_type": "code",
   "execution_count": 54,
   "id": "6e68d6fa",
   "metadata": {},
   "outputs": [],
   "source": [
    "dt_p=dt.predict(xte)"
   ]
  },
  {
   "cell_type": "code",
   "execution_count": 55,
   "id": "5067145d",
   "metadata": {},
   "outputs": [
    {
     "data": {
      "text/plain": [
       "array([[728, 213],\n",
       "       [236, 691]], dtype=int64)"
      ]
     },
     "execution_count": 55,
     "metadata": {},
     "output_type": "execute_result"
    }
   ],
   "source": [
    "c2=confusion_matrix(yte,dt_p)\n",
    "c2"
   ]
  },
  {
   "cell_type": "code",
   "execution_count": 56,
   "id": "f39fada7",
   "metadata": {},
   "outputs": [
    {
     "data": {
      "text/plain": [
       "75.96359743040685"
      ]
     },
     "execution_count": 56,
     "metadata": {},
     "output_type": "execute_result"
    }
   ],
   "source": [
    "a2=c2.diagonal().sum()/c2.sum()*100\n",
    "a2"
   ]
  },
  {
   "cell_type": "code",
   "execution_count": 57,
   "id": "76db9d89",
   "metadata": {},
   "outputs": [
    {
     "name": "stdout",
     "output_type": "stream",
     "text": [
      "              precision    recall  f1-score   support\n",
      "\n",
      "           0       0.76      0.77      0.76       941\n",
      "           1       0.76      0.75      0.75       927\n",
      "\n",
      "    accuracy                           0.76      1868\n",
      "   macro avg       0.76      0.76      0.76      1868\n",
      "weighted avg       0.76      0.76      0.76      1868\n",
      "\n"
     ]
    }
   ],
   "source": [
    "print(classification_report(yte,dt_p))"
   ]
  },
  {
   "cell_type": "markdown",
   "id": "703e8d60",
   "metadata": {},
   "source": [
    "# SVM"
   ]
  },
  {
   "cell_type": "code",
   "execution_count": 58,
   "id": "bf9e9796",
   "metadata": {},
   "outputs": [],
   "source": [
    "from sklearn.svm import SVC\n",
    "svm=SVC()"
   ]
  },
  {
   "cell_type": "code",
   "execution_count": 59,
   "id": "9892a463",
   "metadata": {},
   "outputs": [
    {
     "data": {
      "text/plain": [
       "SVC()"
      ]
     },
     "execution_count": 59,
     "metadata": {},
     "output_type": "execute_result"
    }
   ],
   "source": [
    "svm.fit(xtr,ytr)"
   ]
  },
  {
   "cell_type": "code",
   "execution_count": 60,
   "id": "f31145ca",
   "metadata": {},
   "outputs": [],
   "source": [
    "svm_p=svm.predict(xte)"
   ]
  },
  {
   "cell_type": "code",
   "execution_count": 61,
   "id": "7c0b07fb",
   "metadata": {},
   "outputs": [
    {
     "data": {
      "text/plain": [
       "array([[649, 292],\n",
       "       [387, 540]], dtype=int64)"
      ]
     },
     "execution_count": 61,
     "metadata": {},
     "output_type": "execute_result"
    }
   ],
   "source": [
    "svm_cf=confusion_matrix(yte,svm_p)\n",
    "svm_cf"
   ]
  },
  {
   "cell_type": "code",
   "execution_count": 62,
   "id": "419641e7",
   "metadata": {},
   "outputs": [
    {
     "data": {
      "text/plain": [
       "63.65096359743041"
      ]
     },
     "execution_count": 62,
     "metadata": {},
     "output_type": "execute_result"
    }
   ],
   "source": [
    "svm_ac=svm_cf.diagonal().sum()/svm_cf.sum()*100\n",
    "svm_ac"
   ]
  },
  {
   "cell_type": "code",
   "execution_count": 63,
   "id": "ae12a1bb",
   "metadata": {},
   "outputs": [
    {
     "name": "stdout",
     "output_type": "stream",
     "text": [
      "              precision    recall  f1-score   support\n",
      "\n",
      "           0       0.63      0.69      0.66       941\n",
      "           1       0.65      0.58      0.61       927\n",
      "\n",
      "    accuracy                           0.64      1868\n",
      "   macro avg       0.64      0.64      0.64      1868\n",
      "weighted avg       0.64      0.64      0.64      1868\n",
      "\n"
     ]
    }
   ],
   "source": [
    "print(classification_report(yte,svm_p))"
   ]
  },
  {
   "cell_type": "markdown",
   "id": "7848aa7a",
   "metadata": {},
   "source": [
    "# Naive Bayes"
   ]
  },
  {
   "cell_type": "code",
   "execution_count": 64,
   "id": "469a38ba",
   "metadata": {},
   "outputs": [],
   "source": [
    "from sklearn.naive_bayes import MultinomialNB\n",
    "nb=MultinomialNB()"
   ]
  },
  {
   "cell_type": "code",
   "execution_count": 65,
   "id": "fd8001a1",
   "metadata": {},
   "outputs": [
    {
     "data": {
      "text/plain": [
       "MultinomialNB()"
      ]
     },
     "execution_count": 65,
     "metadata": {},
     "output_type": "execute_result"
    }
   ],
   "source": [
    "nb.fit(xtr,ytr)"
   ]
  },
  {
   "cell_type": "code",
   "execution_count": 66,
   "id": "51e70b46",
   "metadata": {},
   "outputs": [],
   "source": [
    "nb_p=nb.predict(xte)"
   ]
  },
  {
   "cell_type": "code",
   "execution_count": 67,
   "id": "b8a16b4b",
   "metadata": {},
   "outputs": [
    {
     "data": {
      "text/plain": [
       "array([[574, 367],\n",
       "       [346, 581]], dtype=int64)"
      ]
     },
     "execution_count": 67,
     "metadata": {},
     "output_type": "execute_result"
    }
   ],
   "source": [
    "nb_cf=confusion_matrix(yte,nb_p)\n",
    "nb_cf"
   ]
  },
  {
   "cell_type": "code",
   "execution_count": 68,
   "id": "86a085e5",
   "metadata": {},
   "outputs": [
    {
     "data": {
      "text/plain": [
       "61.83083511777302"
      ]
     },
     "execution_count": 68,
     "metadata": {},
     "output_type": "execute_result"
    }
   ],
   "source": [
    "nb_acc=nb_cf.diagonal().sum()/nb_cf.sum()*100\n",
    "nb_acc"
   ]
  },
  {
   "cell_type": "code",
   "execution_count": 69,
   "id": "d18e7141",
   "metadata": {},
   "outputs": [
    {
     "name": "stdout",
     "output_type": "stream",
     "text": [
      "              precision    recall  f1-score   support\n",
      "\n",
      "           0       0.62      0.61      0.62       941\n",
      "           1       0.61      0.63      0.62       927\n",
      "\n",
      "    accuracy                           0.62      1868\n",
      "   macro avg       0.62      0.62      0.62      1868\n",
      "weighted avg       0.62      0.62      0.62      1868\n",
      "\n"
     ]
    }
   ],
   "source": [
    "print(classification_report(yte,nb_p))"
   ]
  },
  {
   "cell_type": "code",
   "execution_count": 70,
   "id": "55013feb",
   "metadata": {},
   "outputs": [],
   "source": [
    "#Conclusion : We get the best accuracy for: RF=79.12 and XGBOOST =79.99 then we see the confusion matix and we find that XGBOOST is best fitted model for this."
   ]
  },
  {
   "cell_type": "markdown",
   "id": "898b5956",
   "metadata": {},
   "source": [
    "# Random Oversampling"
   ]
  },
  {
   "cell_type": "code",
   "execution_count": 71,
   "id": "aa3136f4",
   "metadata": {},
   "outputs": [
    {
     "data": {
      "text/plain": [
       "(50140, 4668)"
      ]
     },
     "execution_count": 71,
     "metadata": {},
     "output_type": "execute_result"
    }
   ],
   "source": [
    "c_0,c_1"
   ]
  },
  {
   "cell_type": "code",
   "execution_count": 72,
   "id": "82c7975b",
   "metadata": {},
   "outputs": [],
   "source": [
    "class_1over=train_1.sample(c_0,replace=True)"
   ]
  },
  {
   "cell_type": "code",
   "execution_count": 73,
   "id": "5c691a06",
   "metadata": {},
   "outputs": [
    {
     "data": {
      "text/plain": [
       "((50140, 13), (50140, 13))"
      ]
     },
     "execution_count": 73,
     "metadata": {},
     "output_type": "execute_result"
    }
   ],
   "source": [
    "#class_1over.head()\n",
    "class_1over.shape,train_0.shape"
   ]
  },
  {
   "cell_type": "code",
   "execution_count": 74,
   "id": "d3a8988b",
   "metadata": {},
   "outputs": [
    {
     "data": {
      "text/plain": [
       "(100280, 13)"
      ]
     },
     "execution_count": 74,
     "metadata": {},
     "output_type": "execute_result"
    }
   ],
   "source": [
    "class1_0=pd.concat([class_1over,train_0],axis=0)\n",
    "class1_0.shape"
   ]
  },
  {
   "cell_type": "code",
   "execution_count": 75,
   "id": "fd14f409",
   "metadata": {},
   "outputs": [
    {
     "data": {
      "text/plain": [
       "1    50140\n",
       "0    50140\n",
       "Name: is_promoted, dtype: int64"
      ]
     },
     "execution_count": 75,
     "metadata": {},
     "output_type": "execute_result"
    }
   ],
   "source": [
    "class1_0.is_promoted.value_counts()"
   ]
  },
  {
   "cell_type": "code",
   "execution_count": 76,
   "id": "b05be47d",
   "metadata": {},
   "outputs": [],
   "source": [
    "x1=class1_0.iloc[:,0:-1]\n",
    "y1=class1_0.iloc[:,-1]"
   ]
  },
  {
   "cell_type": "code",
   "execution_count": 77,
   "id": "65ca4bc3",
   "metadata": {},
   "outputs": [],
   "source": [
    "from sklearn.model_selection import train_test_split\n",
    "xtr1,xte1,ytr1,yte1=train_test_split(x1,y1,test_size=0.2,random_state=100)"
   ]
  },
  {
   "cell_type": "code",
   "execution_count": 78,
   "id": "e85b67d7",
   "metadata": {},
   "outputs": [
    {
     "data": {
      "text/plain": [
       "((80224, 12), (20056, 12), (80224,), (20056,))"
      ]
     },
     "execution_count": 78,
     "metadata": {},
     "output_type": "execute_result"
    }
   ],
   "source": [
    "\n",
    "xtr1.shape,xte1.shape,ytr1.shape,yte1.shape"
   ]
  },
  {
   "cell_type": "markdown",
   "id": "97999065",
   "metadata": {},
   "source": [
    "# Logistic Regression- Random Oversampling"
   ]
  },
  {
   "cell_type": "code",
   "execution_count": 79,
   "id": "99201827",
   "metadata": {},
   "outputs": [],
   "source": [
    "from sklearn.linear_model import LogisticRegression\n",
    "lg=LogisticRegression()"
   ]
  },
  {
   "cell_type": "code",
   "execution_count": 80,
   "id": "a6bb4862",
   "metadata": {},
   "outputs": [
    {
     "data": {
      "text/plain": [
       "LogisticRegression()"
      ]
     },
     "execution_count": 80,
     "metadata": {},
     "output_type": "execute_result"
    }
   ],
   "source": [
    "lg.fit(xtr1,ytr1)"
   ]
  },
  {
   "cell_type": "code",
   "execution_count": 81,
   "id": "46833cac",
   "metadata": {},
   "outputs": [
    {
     "data": {
      "text/plain": [
       "array([1, 1, 0, ..., 1, 0, 1], dtype=int64)"
      ]
     },
     "execution_count": 81,
     "metadata": {},
     "output_type": "execute_result"
    }
   ],
   "source": [
    "p1=lg.predict(xte1)\n",
    "p1"
   ]
  },
  {
   "cell_type": "code",
   "execution_count": 82,
   "id": "2af5ffab",
   "metadata": {},
   "outputs": [],
   "source": [
    "prob=lg.predict_proba(xte1)"
   ]
  },
  {
   "cell_type": "code",
   "execution_count": 83,
   "id": "311b3a09",
   "metadata": {},
   "outputs": [
    {
     "data": {
      "text/html": [
       "<div>\n",
       "<style scoped>\n",
       "    .dataframe tbody tr th:only-of-type {\n",
       "        vertical-align: middle;\n",
       "    }\n",
       "\n",
       "    .dataframe tbody tr th {\n",
       "        vertical-align: top;\n",
       "    }\n",
       "\n",
       "    .dataframe thead th {\n",
       "        text-align: right;\n",
       "    }\n",
       "</style>\n",
       "<table border=\"1\" class=\"dataframe\">\n",
       "  <thead>\n",
       "    <tr style=\"text-align: right;\">\n",
       "      <th></th>\n",
       "      <th>0</th>\n",
       "      <th>1</th>\n",
       "    </tr>\n",
       "  </thead>\n",
       "  <tbody>\n",
       "    <tr>\n",
       "      <th>0</th>\n",
       "      <td>0.185281</td>\n",
       "      <td>0.814719</td>\n",
       "    </tr>\n",
       "    <tr>\n",
       "      <th>1</th>\n",
       "      <td>0.243205</td>\n",
       "      <td>0.756795</td>\n",
       "    </tr>\n",
       "    <tr>\n",
       "      <th>2</th>\n",
       "      <td>0.700200</td>\n",
       "      <td>0.299800</td>\n",
       "    </tr>\n",
       "    <tr>\n",
       "      <th>3</th>\n",
       "      <td>0.049225</td>\n",
       "      <td>0.950775</td>\n",
       "    </tr>\n",
       "    <tr>\n",
       "      <th>4</th>\n",
       "      <td>0.461938</td>\n",
       "      <td>0.538062</td>\n",
       "    </tr>\n",
       "    <tr>\n",
       "      <th>...</th>\n",
       "      <td>...</td>\n",
       "      <td>...</td>\n",
       "    </tr>\n",
       "    <tr>\n",
       "      <th>20051</th>\n",
       "      <td>0.777099</td>\n",
       "      <td>0.222901</td>\n",
       "    </tr>\n",
       "    <tr>\n",
       "      <th>20052</th>\n",
       "      <td>0.435094</td>\n",
       "      <td>0.564906</td>\n",
       "    </tr>\n",
       "    <tr>\n",
       "      <th>20053</th>\n",
       "      <td>0.297091</td>\n",
       "      <td>0.702909</td>\n",
       "    </tr>\n",
       "    <tr>\n",
       "      <th>20054</th>\n",
       "      <td>0.677790</td>\n",
       "      <td>0.322210</td>\n",
       "    </tr>\n",
       "    <tr>\n",
       "      <th>20055</th>\n",
       "      <td>0.315727</td>\n",
       "      <td>0.684273</td>\n",
       "    </tr>\n",
       "  </tbody>\n",
       "</table>\n",
       "<p>20056 rows × 2 columns</p>\n",
       "</div>"
      ],
      "text/plain": [
       "              0         1\n",
       "0      0.185281  0.814719\n",
       "1      0.243205  0.756795\n",
       "2      0.700200  0.299800\n",
       "3      0.049225  0.950775\n",
       "4      0.461938  0.538062\n",
       "...         ...       ...\n",
       "20051  0.777099  0.222901\n",
       "20052  0.435094  0.564906\n",
       "20053  0.297091  0.702909\n",
       "20054  0.677790  0.322210\n",
       "20055  0.315727  0.684273\n",
       "\n",
       "[20056 rows x 2 columns]"
      ]
     },
     "execution_count": 83,
     "metadata": {},
     "output_type": "execute_result"
    }
   ],
   "source": [
    "df=pd.DataFrame(prob)\n",
    "df"
   ]
  },
  {
   "cell_type": "code",
   "execution_count": 84,
   "id": "2991c289",
   "metadata": {},
   "outputs": [
    {
     "data": {
      "text/plain": [
       "array([[6949, 3052],\n",
       "       [2430, 7625]], dtype=int64)"
      ]
     },
     "execution_count": 84,
     "metadata": {},
     "output_type": "execute_result"
    }
   ],
   "source": [
    "from sklearn.metrics import confusion_matrix\n",
    "cf1=confusion_matrix(yte1,p1)\n",
    "cf1"
   ]
  },
  {
   "cell_type": "code",
   "execution_count": 85,
   "id": "51fa4e96",
   "metadata": {},
   "outputs": [
    {
     "data": {
      "text/plain": [
       "72.66653370562425"
      ]
     },
     "execution_count": 85,
     "metadata": {},
     "output_type": "execute_result"
    }
   ],
   "source": [
    "ac1=cf1.diagonal().sum()/cf1.sum()*100\n",
    "ac1"
   ]
  },
  {
   "cell_type": "code",
   "execution_count": 86,
   "id": "c9a2a903",
   "metadata": {},
   "outputs": [],
   "source": [
    "from sklearn.metrics import classification_report"
   ]
  },
  {
   "cell_type": "code",
   "execution_count": 87,
   "id": "b4d85480",
   "metadata": {},
   "outputs": [
    {
     "name": "stdout",
     "output_type": "stream",
     "text": [
      "              precision    recall  f1-score   support\n",
      "\n",
      "           0       0.74      0.69      0.72     10001\n",
      "           1       0.71      0.76      0.74     10055\n",
      "\n",
      "    accuracy                           0.73     20056\n",
      "   macro avg       0.73      0.73      0.73     20056\n",
      "weighted avg       0.73      0.73      0.73     20056\n",
      "\n"
     ]
    }
   ],
   "source": [
    "print(classification_report(yte1,p1))"
   ]
  },
  {
   "cell_type": "markdown",
   "id": "5bd0168c",
   "metadata": {},
   "source": [
    "# Decision Tree"
   ]
  },
  {
   "cell_type": "code",
   "execution_count": 88,
   "id": "4327685f",
   "metadata": {},
   "outputs": [],
   "source": [
    "from sklearn.tree import DecisionTreeClassifier\n",
    "dt=DecisionTreeClassifier()"
   ]
  },
  {
   "cell_type": "code",
   "execution_count": 89,
   "id": "1f83013f",
   "metadata": {},
   "outputs": [
    {
     "data": {
      "text/plain": [
       "DecisionTreeClassifier()"
      ]
     },
     "execution_count": 89,
     "metadata": {},
     "output_type": "execute_result"
    }
   ],
   "source": [
    "dt.fit(xtr1,ytr1)"
   ]
  },
  {
   "cell_type": "code",
   "execution_count": 90,
   "id": "a4c4ef38",
   "metadata": {},
   "outputs": [
    {
     "data": {
      "text/plain": [
       "array([1, 1, 0, ..., 1, 1, 0], dtype=int64)"
      ]
     },
     "execution_count": 90,
     "metadata": {},
     "output_type": "execute_result"
    }
   ],
   "source": [
    "dt_p=dt.predict(xte1)\n",
    "dt_p"
   ]
  },
  {
   "cell_type": "code",
   "execution_count": 91,
   "id": "f7aa884d",
   "metadata": {},
   "outputs": [
    {
     "data": {
      "text/plain": [
       "array([[ 9366,   635],\n",
       "       [    0, 10055]], dtype=int64)"
      ]
     },
     "execution_count": 91,
     "metadata": {},
     "output_type": "execute_result"
    }
   ],
   "source": [
    "dt_c=confusion_matrix(yte1,dt_p)\n",
    "dt_c"
   ]
  },
  {
   "cell_type": "code",
   "execution_count": 92,
   "id": "eae4a963",
   "metadata": {},
   "outputs": [
    {
     "data": {
      "text/plain": [
       "96.83386517750299"
      ]
     },
     "execution_count": 92,
     "metadata": {},
     "output_type": "execute_result"
    }
   ],
   "source": [
    "dt_ac=dt_c.diagonal().sum()/dt_c.sum()*100\n",
    "dt_ac"
   ]
  },
  {
   "cell_type": "code",
   "execution_count": 93,
   "id": "297ab62f",
   "metadata": {},
   "outputs": [
    {
     "name": "stdout",
     "output_type": "stream",
     "text": [
      "              precision    recall  f1-score   support\n",
      "\n",
      "           0       1.00      0.94      0.97     10001\n",
      "           1       0.94      1.00      0.97     10055\n",
      "\n",
      "    accuracy                           0.97     20056\n",
      "   macro avg       0.97      0.97      0.97     20056\n",
      "weighted avg       0.97      0.97      0.97     20056\n",
      "\n"
     ]
    }
   ],
   "source": [
    "print(classification_report(yte1,dt_p))"
   ]
  },
  {
   "cell_type": "markdown",
   "id": "50261ecb",
   "metadata": {},
   "source": [
    "# Random Forest"
   ]
  },
  {
   "cell_type": "code",
   "execution_count": 94,
   "id": "95fbe041",
   "metadata": {},
   "outputs": [
    {
     "data": {
      "text/plain": [
       "RandomForestClassifier()"
      ]
     },
     "execution_count": 94,
     "metadata": {},
     "output_type": "execute_result"
    }
   ],
   "source": [
    "rf.fit(xtr1,ytr1)"
   ]
  },
  {
   "cell_type": "code",
   "execution_count": 95,
   "id": "1f9c29d4",
   "metadata": {},
   "outputs": [],
   "source": [
    "rf_p=rf.predict(xte1)"
   ]
  },
  {
   "cell_type": "code",
   "execution_count": 96,
   "id": "6f1fc345",
   "metadata": {},
   "outputs": [
    {
     "data": {
      "text/plain": [
       "array([[ 9753,   248],\n",
       "       [    0, 10055]], dtype=int64)"
      ]
     },
     "execution_count": 96,
     "metadata": {},
     "output_type": "execute_result"
    }
   ],
   "source": [
    "rf_c=confusion_matrix(yte1,rf_p)\n",
    "rf_c"
   ]
  },
  {
   "cell_type": "code",
   "execution_count": 97,
   "id": "9305ba45",
   "metadata": {},
   "outputs": [
    {
     "data": {
      "text/plain": [
       "98.76346230554448"
      ]
     },
     "execution_count": 97,
     "metadata": {},
     "output_type": "execute_result"
    }
   ],
   "source": [
    "rf_ac=rf_c.diagonal().sum()/rf_c.sum()*100\n",
    "rf_ac"
   ]
  },
  {
   "cell_type": "code",
   "execution_count": 98,
   "id": "97e6538b",
   "metadata": {},
   "outputs": [
    {
     "name": "stdout",
     "output_type": "stream",
     "text": [
      "              precision    recall  f1-score   support\n",
      "\n",
      "           0       1.00      0.98      0.99     10001\n",
      "           1       0.98      1.00      0.99     10055\n",
      "\n",
      "    accuracy                           0.99     20056\n",
      "   macro avg       0.99      0.99      0.99     20056\n",
      "weighted avg       0.99      0.99      0.99     20056\n",
      "\n"
     ]
    }
   ],
   "source": [
    "print(classification_report(yte1,rf_p))"
   ]
  },
  {
   "cell_type": "markdown",
   "id": "402e2808",
   "metadata": {},
   "source": [
    "# KNN"
   ]
  },
  {
   "cell_type": "code",
   "execution_count": 99,
   "id": "5996d90b",
   "metadata": {},
   "outputs": [
    {
     "data": {
      "text/plain": [
       "KNeighborsClassifier()"
      ]
     },
     "execution_count": 99,
     "metadata": {},
     "output_type": "execute_result"
    }
   ],
   "source": [
    "knn.fit(xtr1,ytr1)"
   ]
  },
  {
   "cell_type": "code",
   "execution_count": 100,
   "id": "80267017",
   "metadata": {},
   "outputs": [],
   "source": [
    "knn_p=knn.predict(xte1)"
   ]
  },
  {
   "cell_type": "code",
   "execution_count": 101,
   "id": "f0511b1e",
   "metadata": {},
   "outputs": [
    {
     "data": {
      "text/plain": [
       "array([[ 8090,  1911],\n",
       "       [   46, 10009]], dtype=int64)"
      ]
     },
     "execution_count": 101,
     "metadata": {},
     "output_type": "execute_result"
    }
   ],
   "source": [
    "knn_c1=confusion_matrix(yte1,knn_p)\n",
    "knn_c1"
   ]
  },
  {
   "cell_type": "code",
   "execution_count": 102,
   "id": "253fe8ef",
   "metadata": {},
   "outputs": [
    {
     "data": {
      "text/plain": [
       "90.24232149980055"
      ]
     },
     "execution_count": 102,
     "metadata": {},
     "output_type": "execute_result"
    }
   ],
   "source": [
    "knn_ac1=knn_c1.diagonal().sum()/knn_c1.sum()*100\n",
    "knn_ac1"
   ]
  },
  {
   "cell_type": "code",
   "execution_count": 103,
   "id": "dffb9051",
   "metadata": {},
   "outputs": [
    {
     "name": "stdout",
     "output_type": "stream",
     "text": [
      "              precision    recall  f1-score   support\n",
      "\n",
      "           0       0.99      0.81      0.89     10001\n",
      "           1       0.84      1.00      0.91     10055\n",
      "\n",
      "    accuracy                           0.90     20056\n",
      "   macro avg       0.92      0.90      0.90     20056\n",
      "weighted avg       0.92      0.90      0.90     20056\n",
      "\n"
     ]
    }
   ],
   "source": [
    "print(classification_report(yte1,knn_p))"
   ]
  },
  {
   "cell_type": "markdown",
   "id": "72965d59",
   "metadata": {},
   "source": [
    "# XGB"
   ]
  },
  {
   "cell_type": "code",
   "execution_count": 104,
   "id": "19c6935b",
   "metadata": {},
   "outputs": [
    {
     "data": {
      "text/plain": [
       "XGBClassifier(base_score=None, booster=None, callbacks=None,\n",
       "              colsample_bylevel=None, colsample_bynode=None,\n",
       "              colsample_bytree=None, early_stopping_rounds=None,\n",
       "              enable_categorical=False, eval_metric=None, feature_types=None,\n",
       "              gamma=None, gpu_id=None, grow_policy=None, importance_type=None,\n",
       "              interaction_constraints=None, learning_rate=None, max_bin=None,\n",
       "              max_cat_threshold=None, max_cat_to_onehot=None,\n",
       "              max_delta_step=None, max_depth=None, max_leaves=None,\n",
       "              min_child_weight=None, missing=nan, monotone_constraints=None,\n",
       "              n_estimators=100, n_jobs=None, num_parallel_tree=None,\n",
       "              predictor=None, random_state=None, ...)"
      ]
     },
     "execution_count": 104,
     "metadata": {},
     "output_type": "execute_result"
    }
   ],
   "source": [
    "xgb.fit(xtr1,ytr1)"
   ]
  },
  {
   "cell_type": "code",
   "execution_count": 105,
   "id": "fcb0f87d",
   "metadata": {},
   "outputs": [],
   "source": [
    "xgb_p=xgb.predict(xte1)\n",
    "#xgb_p"
   ]
  },
  {
   "cell_type": "code",
   "execution_count": 106,
   "id": "ba22b82f",
   "metadata": {},
   "outputs": [
    {
     "data": {
      "text/plain": [
       "array([[8098, 1903],\n",
       "       [ 367, 9688]], dtype=int64)"
      ]
     },
     "execution_count": 106,
     "metadata": {},
     "output_type": "execute_result"
    }
   ],
   "source": [
    "xgb_c=confusion_matrix(yte1,xgb_p)\n",
    "xgb_c"
   ]
  },
  {
   "cell_type": "code",
   "execution_count": 107,
   "id": "6f386d07",
   "metadata": {},
   "outputs": [
    {
     "data": {
      "text/plain": [
       "88.68169126445952"
      ]
     },
     "execution_count": 107,
     "metadata": {},
     "output_type": "execute_result"
    }
   ],
   "source": [
    "xgb_ac=xgb_c.diagonal().sum()/xgb_c.sum()*100\n",
    "xgb_ac"
   ]
  },
  {
   "cell_type": "code",
   "execution_count": 108,
   "id": "6feb4444",
   "metadata": {},
   "outputs": [
    {
     "name": "stdout",
     "output_type": "stream",
     "text": [
      "              precision    recall  f1-score   support\n",
      "\n",
      "           0       0.96      0.81      0.88     10001\n",
      "           1       0.84      0.96      0.90     10055\n",
      "\n",
      "    accuracy                           0.89     20056\n",
      "   macro avg       0.90      0.89      0.89     20056\n",
      "weighted avg       0.90      0.89      0.89     20056\n",
      "\n"
     ]
    }
   ],
   "source": [
    "print(classification_report(yte1,xgb_p))"
   ]
  },
  {
   "cell_type": "markdown",
   "id": "a0f63a0d",
   "metadata": {},
   "source": [
    "# Navie Bayes"
   ]
  },
  {
   "cell_type": "code",
   "execution_count": 109,
   "id": "5f8ba465",
   "metadata": {},
   "outputs": [
    {
     "data": {
      "text/plain": [
       "MultinomialNB()"
      ]
     },
     "execution_count": 109,
     "metadata": {},
     "output_type": "execute_result"
    }
   ],
   "source": [
    "nb.fit(xtr1,ytr1)"
   ]
  },
  {
   "cell_type": "code",
   "execution_count": 110,
   "id": "7cad07eb",
   "metadata": {},
   "outputs": [],
   "source": [
    "nb_p=nb.predict(xte1)"
   ]
  },
  {
   "cell_type": "code",
   "execution_count": 111,
   "id": "022580ff",
   "metadata": {},
   "outputs": [
    {
     "data": {
      "text/plain": [
       "array([[6268, 3733],\n",
       "       [3533, 6522]], dtype=int64)"
      ]
     },
     "execution_count": 111,
     "metadata": {},
     "output_type": "execute_result"
    }
   ],
   "source": [
    "nb_cf=confusion_matrix(yte1,nb_p)\n",
    "nb_cf"
   ]
  },
  {
   "cell_type": "code",
   "execution_count": 112,
   "id": "acba4f97",
   "metadata": {},
   "outputs": [
    {
     "data": {
      "text/plain": [
       "63.77143996808935"
      ]
     },
     "execution_count": 112,
     "metadata": {},
     "output_type": "execute_result"
    }
   ],
   "source": [
    "nb_acc=nb_cf.diagonal().sum()/nb_cf.sum()*100\n",
    "nb_acc"
   ]
  },
  {
   "cell_type": "code",
   "execution_count": 113,
   "id": "ffc04d0b",
   "metadata": {},
   "outputs": [
    {
     "name": "stdout",
     "output_type": "stream",
     "text": [
      "              precision    recall  f1-score   support\n",
      "\n",
      "           0       0.64      0.63      0.63     10001\n",
      "           1       0.64      0.65      0.64     10055\n",
      "\n",
      "    accuracy                           0.64     20056\n",
      "   macro avg       0.64      0.64      0.64     20056\n",
      "weighted avg       0.64      0.64      0.64     20056\n",
      "\n"
     ]
    }
   ],
   "source": [
    "print(classification_report(yte1,nb_p))"
   ]
  },
  {
   "cell_type": "code",
   "execution_count": null,
   "id": "6ce99a30",
   "metadata": {},
   "outputs": [],
   "source": []
  },
  {
   "cell_type": "markdown",
   "id": "56b813ee",
   "metadata": {},
   "source": [
    "# SVM"
   ]
  },
  {
   "cell_type": "code",
   "execution_count": 114,
   "id": "052aa0a5",
   "metadata": {},
   "outputs": [],
   "source": [
    "#svm.fit(xtr1,ytr1)"
   ]
  },
  {
   "cell_type": "code",
   "execution_count": 115,
   "id": "da32d4ec",
   "metadata": {},
   "outputs": [],
   "source": [
    "#svm_p=svm.predict(xte1)"
   ]
  },
  {
   "cell_type": "code",
   "execution_count": 116,
   "id": "ed39a2eb",
   "metadata": {},
   "outputs": [],
   "source": [
    "#svm_cf=confusion_matrix(yte1,svm_p)\n",
    "#svm_cf"
   ]
  },
  {
   "cell_type": "code",
   "execution_count": 117,
   "id": "7346bf0f",
   "metadata": {},
   "outputs": [],
   "source": [
    "#svm_ac=svm_cf.diagonal().sum()/svm_cf.sum()*100\n",
    "#svm_ac"
   ]
  },
  {
   "cell_type": "code",
   "execution_count": 118,
   "id": "b28db2a6",
   "metadata": {},
   "outputs": [],
   "source": [
    "#print(classification_report(yte1,svm_p))"
   ]
  },
  {
   "cell_type": "code",
   "execution_count": 119,
   "id": "dd80f69b",
   "metadata": {},
   "outputs": [],
   "source": [
    "#Conclusion: Rf=98% accuracy which overfitted so we have to do feature selection after that #we have to do RF then we get correct accuracy."
   ]
  },
  {
   "cell_type": "markdown",
   "id": "3161a408",
   "metadata": {},
   "source": [
    "# IMBLEARN - UnderSampling"
   ]
  },
  {
   "cell_type": "code",
   "execution_count": 120,
   "id": "b634e868",
   "metadata": {},
   "outputs": [],
   "source": [
    "import imblearn"
   ]
  },
  {
   "cell_type": "code",
   "execution_count": 121,
   "id": "debe6f47",
   "metadata": {},
   "outputs": [],
   "source": [
    "from imblearn.under_sampling import RandomUnderSampler"
   ]
  },
  {
   "cell_type": "code",
   "execution_count": 122,
   "id": "ce065446",
   "metadata": {},
   "outputs": [
    {
     "data": {
      "text/plain": [
       "0    50140\n",
       "1     4668\n",
       "Name: is_promoted, dtype: int64"
      ]
     },
     "execution_count": 122,
     "metadata": {},
     "output_type": "execute_result"
    }
   ],
   "source": [
    "data_train.is_promoted.value_counts()"
   ]
  },
  {
   "cell_type": "code",
   "execution_count": 123,
   "id": "1fa908f4",
   "metadata": {},
   "outputs": [],
   "source": [
    "d_x=data_train.iloc[:,0:-1]\n",
    "d_y=data_train.iloc[:,-1]"
   ]
  },
  {
   "cell_type": "code",
   "execution_count": 124,
   "id": "818a49bd",
   "metadata": {},
   "outputs": [],
   "source": [
    "a1=RandomUnderSampler(sampling_strategy=\"all\")"
   ]
  },
  {
   "cell_type": "code",
   "execution_count": 125,
   "id": "4df3980c",
   "metadata": {},
   "outputs": [],
   "source": [
    "x1,y1=a1.fit_resample(d_x,d_y)"
   ]
  },
  {
   "cell_type": "code",
   "execution_count": 126,
   "id": "589d6de6",
   "metadata": {},
   "outputs": [
    {
     "data": {
      "text/plain": [
       "((9336, 12), (9336,))"
      ]
     },
     "execution_count": 126,
     "metadata": {},
     "output_type": "execute_result"
    }
   ],
   "source": [
    "x1.shape,y1.shape"
   ]
  },
  {
   "cell_type": "code",
   "execution_count": 127,
   "id": "52abb7b5",
   "metadata": {},
   "outputs": [],
   "source": [
    "from sklearn.model_selection import train_test_split\n",
    "xtr2,xte2,ytr2,yte2=train_test_split(x1,y1,test_size=0.2,random_state=100)"
   ]
  },
  {
   "cell_type": "code",
   "execution_count": 128,
   "id": "040ea2b4",
   "metadata": {},
   "outputs": [],
   "source": [
    "#LG"
   ]
  },
  {
   "cell_type": "markdown",
   "id": "55d84de5",
   "metadata": {},
   "source": [
    "# Decision Tree"
   ]
  },
  {
   "cell_type": "code",
   "execution_count": 129,
   "id": "8a67a192",
   "metadata": {},
   "outputs": [
    {
     "data": {
      "text/plain": [
       "DecisionTreeClassifier()"
      ]
     },
     "execution_count": 129,
     "metadata": {},
     "output_type": "execute_result"
    }
   ],
   "source": [
    "dt.fit(xtr2,ytr2)"
   ]
  },
  {
   "cell_type": "code",
   "execution_count": 130,
   "id": "af856336",
   "metadata": {},
   "outputs": [
    {
     "data": {
      "text/plain": [
       "array([0, 0, 1, ..., 1, 0, 1], dtype=int64)"
      ]
     },
     "execution_count": 130,
     "metadata": {},
     "output_type": "execute_result"
    }
   ],
   "source": [
    "dt_p=dt.predict(xte2)\n",
    "dt_p"
   ]
  },
  {
   "cell_type": "code",
   "execution_count": 131,
   "id": "e9d255bc",
   "metadata": {},
   "outputs": [
    {
     "data": {
      "text/plain": [
       "array([[729, 212],\n",
       "       [218, 709]], dtype=int64)"
      ]
     },
     "execution_count": 131,
     "metadata": {},
     "output_type": "execute_result"
    }
   ],
   "source": [
    "dt_c=confusion_matrix(yte2,dt_p)\n",
    "dt_c"
   ]
  },
  {
   "cell_type": "code",
   "execution_count": 132,
   "id": "b1ac6bde",
   "metadata": {},
   "outputs": [],
   "source": [
    "c=confusion_matrix(yte2,dt_p)"
   ]
  },
  {
   "cell_type": "code",
   "execution_count": 133,
   "id": "f5faf79c",
   "metadata": {},
   "outputs": [
    {
     "data": {
      "text/plain": [
       "76.98072805139186"
      ]
     },
     "execution_count": 133,
     "metadata": {},
     "output_type": "execute_result"
    }
   ],
   "source": [
    "dt_ac=c.diagonal().sum()/dt_c.sum()*100\n",
    "dt_ac"
   ]
  },
  {
   "cell_type": "code",
   "execution_count": 134,
   "id": "e06c0278",
   "metadata": {},
   "outputs": [
    {
     "name": "stdout",
     "output_type": "stream",
     "text": [
      "              precision    recall  f1-score   support\n",
      "\n",
      "           0       0.77      0.77      0.77       941\n",
      "           1       0.77      0.76      0.77       927\n",
      "\n",
      "    accuracy                           0.77      1868\n",
      "   macro avg       0.77      0.77      0.77      1868\n",
      "weighted avg       0.77      0.77      0.77      1868\n",
      "\n"
     ]
    }
   ],
   "source": [
    "print(classification_report(yte2,dt_p))"
   ]
  },
  {
   "cell_type": "markdown",
   "id": "58259f7d",
   "metadata": {},
   "source": [
    "# RF"
   ]
  },
  {
   "cell_type": "code",
   "execution_count": 135,
   "id": "067341b0",
   "metadata": {},
   "outputs": [
    {
     "data": {
      "text/plain": [
       "RandomForestClassifier()"
      ]
     },
     "execution_count": 135,
     "metadata": {},
     "output_type": "execute_result"
    }
   ],
   "source": [
    "rf.fit(xtr2,ytr2)"
   ]
  },
  {
   "cell_type": "code",
   "execution_count": 136,
   "id": "2326d115",
   "metadata": {},
   "outputs": [],
   "source": [
    "rf_p=rf.predict(xte2)"
   ]
  },
  {
   "cell_type": "code",
   "execution_count": 137,
   "id": "20025ce6",
   "metadata": {},
   "outputs": [
    {
     "data": {
      "text/plain": [
       "array([[698, 243],\n",
       "       [108, 819]], dtype=int64)"
      ]
     },
     "execution_count": 137,
     "metadata": {},
     "output_type": "execute_result"
    }
   ],
   "source": [
    "rf_c=confusion_matrix(yte2,rf_p)\n",
    "rf_c"
   ]
  },
  {
   "cell_type": "code",
   "execution_count": 138,
   "id": "ca4d8def",
   "metadata": {},
   "outputs": [
    {
     "data": {
      "text/plain": [
       "81.20985010706639"
      ]
     },
     "execution_count": 138,
     "metadata": {},
     "output_type": "execute_result"
    }
   ],
   "source": [
    "rf_ac=rf_c.diagonal().sum()/rf_c.sum()*100\n",
    "rf_ac"
   ]
  },
  {
   "cell_type": "code",
   "execution_count": 139,
   "id": "d3854051",
   "metadata": {},
   "outputs": [
    {
     "name": "stdout",
     "output_type": "stream",
     "text": [
      "              precision    recall  f1-score   support\n",
      "\n",
      "           0       0.87      0.74      0.80       941\n",
      "           1       0.77      0.88      0.82       927\n",
      "\n",
      "    accuracy                           0.81      1868\n",
      "   macro avg       0.82      0.81      0.81      1868\n",
      "weighted avg       0.82      0.81      0.81      1868\n",
      "\n"
     ]
    }
   ],
   "source": [
    "print(classification_report(yte2,rf_p))"
   ]
  },
  {
   "cell_type": "markdown",
   "id": "0f43e4c4",
   "metadata": {},
   "source": [
    "# XGB"
   ]
  },
  {
   "cell_type": "code",
   "execution_count": 140,
   "id": "4542d58b",
   "metadata": {},
   "outputs": [
    {
     "data": {
      "text/plain": [
       "XGBClassifier(base_score=None, booster=None, callbacks=None,\n",
       "              colsample_bylevel=None, colsample_bynode=None,\n",
       "              colsample_bytree=None, early_stopping_rounds=None,\n",
       "              enable_categorical=False, eval_metric=None, feature_types=None,\n",
       "              gamma=None, gpu_id=None, grow_policy=None, importance_type=None,\n",
       "              interaction_constraints=None, learning_rate=None, max_bin=None,\n",
       "              max_cat_threshold=None, max_cat_to_onehot=None,\n",
       "              max_delta_step=None, max_depth=None, max_leaves=None,\n",
       "              min_child_weight=None, missing=nan, monotone_constraints=None,\n",
       "              n_estimators=100, n_jobs=None, num_parallel_tree=None,\n",
       "              predictor=None, random_state=None, ...)"
      ]
     },
     "execution_count": 140,
     "metadata": {},
     "output_type": "execute_result"
    }
   ],
   "source": [
    "xgb.fit(xtr2,ytr2)"
   ]
  },
  {
   "cell_type": "code",
   "execution_count": 141,
   "id": "54d73305",
   "metadata": {},
   "outputs": [],
   "source": [
    "xgb_p=xgb.predict(xte2)"
   ]
  },
  {
   "cell_type": "code",
   "execution_count": 142,
   "id": "c335b0fb",
   "metadata": {},
   "outputs": [
    {
     "data": {
      "text/plain": [
       "array([[727, 214],\n",
       "       [128, 799]], dtype=int64)"
      ]
     },
     "execution_count": 142,
     "metadata": {},
     "output_type": "execute_result"
    }
   ],
   "source": [
    "xgb_c=confusion_matrix(yte2,xgb_p)\n",
    "xgb_c"
   ]
  },
  {
   "cell_type": "code",
   "execution_count": 143,
   "id": "9dd86710",
   "metadata": {},
   "outputs": [
    {
     "data": {
      "text/plain": [
       "81.6916488222698"
      ]
     },
     "execution_count": 143,
     "metadata": {},
     "output_type": "execute_result"
    }
   ],
   "source": [
    "xgb_ac=xgb_c.diagonal().sum()/xgb_c.sum()*100\n",
    "xgb_ac"
   ]
  },
  {
   "cell_type": "code",
   "execution_count": 144,
   "id": "b067ffe5",
   "metadata": {},
   "outputs": [
    {
     "name": "stdout",
     "output_type": "stream",
     "text": [
      "              precision    recall  f1-score   support\n",
      "\n",
      "           0       0.85      0.77      0.81       941\n",
      "           1       0.79      0.86      0.82       927\n",
      "\n",
      "    accuracy                           0.82      1868\n",
      "   macro avg       0.82      0.82      0.82      1868\n",
      "weighted avg       0.82      0.82      0.82      1868\n",
      "\n"
     ]
    }
   ],
   "source": [
    "print(classification_report(yte2,xgb_p))"
   ]
  },
  {
   "cell_type": "markdown",
   "id": "2e8c959c",
   "metadata": {},
   "source": [
    "# IMBLearn Oversampling"
   ]
  },
  {
   "cell_type": "code",
   "execution_count": 145,
   "id": "f20ad6d1",
   "metadata": {},
   "outputs": [],
   "source": [
    "x7=data_train.iloc[:,0:-1]\n",
    "y7=data_train.iloc[:,-1]"
   ]
  },
  {
   "cell_type": "code",
   "execution_count": 146,
   "id": "b3faae4c",
   "metadata": {},
   "outputs": [],
   "source": [
    "from imblearn.over_sampling import RandomOverSampler"
   ]
  },
  {
   "cell_type": "code",
   "execution_count": 148,
   "id": "b2034fb0",
   "metadata": {},
   "outputs": [],
   "source": [
    "a1=RandomOverSampler(random_state=42)\n",
    "x8,y8=a1.fit_resample(x7,y7)"
   ]
  },
  {
   "cell_type": "code",
   "execution_count": 149,
   "id": "58c7e607",
   "metadata": {},
   "outputs": [
    {
     "data": {
      "text/plain": [
       "(100280, 12)"
      ]
     },
     "execution_count": 149,
     "metadata": {},
     "output_type": "execute_result"
    }
   ],
   "source": [
    "x8.shape"
   ]
  },
  {
   "cell_type": "code",
   "execution_count": 150,
   "id": "d75eb953",
   "metadata": {},
   "outputs": [
    {
     "data": {
      "text/plain": [
       "(100280,)"
      ]
     },
     "execution_count": 150,
     "metadata": {},
     "output_type": "execute_result"
    }
   ],
   "source": [
    "y8.shape"
   ]
  },
  {
   "cell_type": "code",
   "execution_count": 151,
   "id": "b3a7b3b6",
   "metadata": {},
   "outputs": [
    {
     "data": {
      "text/plain": [
       "((100280, 12), (100280,))"
      ]
     },
     "execution_count": 151,
     "metadata": {},
     "output_type": "execute_result"
    }
   ],
   "source": [
    "x8.shape,y8.shape"
   ]
  },
  {
   "cell_type": "code",
   "execution_count": 155,
   "id": "dd11bf0b",
   "metadata": {},
   "outputs": [
    {
     "data": {
      "text/plain": [
       "((80224, 12), (20056, 12), (80224,), (20056,))"
      ]
     },
     "execution_count": 155,
     "metadata": {},
     "output_type": "execute_result"
    }
   ],
   "source": [
    "x8_tr,x8_te,y8_tr,y8_te=train_test_split(x8,y8,test_size=0.2,random_state=100)\n",
    "x8_tr.shape,x8_te.shape,y8_tr.shape,y8_te.shape"
   ]
  },
  {
   "cell_type": "code",
   "execution_count": 156,
   "id": "3b0de84a",
   "metadata": {},
   "outputs": [
    {
     "data": {
      "text/plain": [
       "LogisticRegression()"
      ]
     },
     "execution_count": 156,
     "metadata": {},
     "output_type": "execute_result"
    }
   ],
   "source": [
    "#logistic regression\n",
    "lg.fit(x8_tr,y8_tr)"
   ]
  },
  {
   "cell_type": "code",
   "execution_count": 157,
   "id": "32006816",
   "metadata": {},
   "outputs": [],
   "source": [
    "p8=lg.predict(x8_te)"
   ]
  },
  {
   "cell_type": "code",
   "execution_count": 158,
   "id": "d41297a9",
   "metadata": {},
   "outputs": [
    {
     "data": {
      "text/plain": [
       "array([[7167, 2859],\n",
       "       [2635, 7395]], dtype=int64)"
      ]
     },
     "execution_count": 158,
     "metadata": {},
     "output_type": "execute_result"
    }
   ],
   "source": [
    "cf8=confusion_matrix(y8_te,p8)\n",
    "cf8"
   ]
  },
  {
   "cell_type": "code",
   "execution_count": 159,
   "id": "b2718b9c",
   "metadata": {},
   "outputs": [
    {
     "data": {
      "text/plain": [
       "72.6067012365377"
      ]
     },
     "execution_count": 159,
     "metadata": {},
     "output_type": "execute_result"
    }
   ],
   "source": [
    "acc8=cf8.diagonal().sum()/cf8.sum()*100\n",
    "acc8"
   ]
  },
  {
   "cell_type": "code",
   "execution_count": 160,
   "id": "6501148d",
   "metadata": {},
   "outputs": [
    {
     "name": "stdout",
     "output_type": "stream",
     "text": [
      "              precision    recall  f1-score   support\n",
      "\n",
      "           0       0.73      0.71      0.72     10026\n",
      "           1       0.72      0.74      0.73     10030\n",
      "\n",
      "    accuracy                           0.73     20056\n",
      "   macro avg       0.73      0.73      0.73     20056\n",
      "weighted avg       0.73      0.73      0.73     20056\n",
      "\n"
     ]
    }
   ],
   "source": [
    "print(classification_report(y8_te,p8))"
   ]
  },
  {
   "cell_type": "code",
   "execution_count": 161,
   "id": "72a182c9",
   "metadata": {},
   "outputs": [
    {
     "data": {
      "text/plain": [
       "DecisionTreeClassifier()"
      ]
     },
     "execution_count": 161,
     "metadata": {},
     "output_type": "execute_result"
    }
   ],
   "source": [
    "#DT\n",
    "dt.fit(x8_tr,y8_tr)"
   ]
  },
  {
   "cell_type": "code",
   "execution_count": 162,
   "id": "7ba8c51f",
   "metadata": {},
   "outputs": [],
   "source": [
    "dt_p8=dt.predict(x8_te)"
   ]
  },
  {
   "cell_type": "code",
   "execution_count": 163,
   "id": "2e0af4d4",
   "metadata": {},
   "outputs": [
    {
     "data": {
      "text/plain": [
       "array([[ 9420,   606],\n",
       "       [    0, 10030]], dtype=int64)"
      ]
     },
     "execution_count": 163,
     "metadata": {},
     "output_type": "execute_result"
    }
   ],
   "source": [
    "dt_cf8=confusion_matrix(y8_te,dt_p8)\n",
    "dt_cf8"
   ]
  },
  {
   "cell_type": "code",
   "execution_count": 164,
   "id": "d6c3215a",
   "metadata": {},
   "outputs": [
    {
     "data": {
      "text/plain": [
       "96.97846031112884"
      ]
     },
     "execution_count": 164,
     "metadata": {},
     "output_type": "execute_result"
    }
   ],
   "source": [
    "dt_acc8=dt_cf8.diagonal().sum()/dt_cf8.sum()*100\n",
    "dt_acc8"
   ]
  },
  {
   "cell_type": "code",
   "execution_count": 165,
   "id": "d58f8b14",
   "metadata": {},
   "outputs": [
    {
     "name": "stdout",
     "output_type": "stream",
     "text": [
      "              precision    recall  f1-score   support\n",
      "\n",
      "           0       1.00      0.94      0.97     10026\n",
      "           1       0.94      1.00      0.97     10030\n",
      "\n",
      "    accuracy                           0.97     20056\n",
      "   macro avg       0.97      0.97      0.97     20056\n",
      "weighted avg       0.97      0.97      0.97     20056\n",
      "\n"
     ]
    }
   ],
   "source": [
    "print(classification_report(y8_te,dt_p8))"
   ]
  },
  {
   "cell_type": "code",
   "execution_count": 166,
   "id": "dd4d585a",
   "metadata": {},
   "outputs": [
    {
     "data": {
      "text/plain": [
       "RandomForestClassifier()"
      ]
     },
     "execution_count": 166,
     "metadata": {},
     "output_type": "execute_result"
    }
   ],
   "source": [
    "#RF\n",
    "rf.fit(x8_tr,y8_tr)"
   ]
  },
  {
   "cell_type": "code",
   "execution_count": 168,
   "id": "b7ff0ef3",
   "metadata": {},
   "outputs": [],
   "source": [
    "rf_p8=rf.predict(x8_te)"
   ]
  },
  {
   "cell_type": "code",
   "execution_count": 169,
   "id": "808dbe88",
   "metadata": {},
   "outputs": [
    {
     "data": {
      "text/plain": [
       "array([[ 9771,   255],\n",
       "       [    0, 10030]], dtype=int64)"
      ]
     },
     "execution_count": 169,
     "metadata": {},
     "output_type": "execute_result"
    }
   ],
   "source": [
    "rf_cf8=confusion_matrix(y8_te,rf_p8)\n",
    "rf_cf8"
   ]
  },
  {
   "cell_type": "code",
   "execution_count": 170,
   "id": "11b72301",
   "metadata": {},
   "outputs": [
    {
     "data": {
      "text/plain": [
       "98.72856003191065"
      ]
     },
     "execution_count": 170,
     "metadata": {},
     "output_type": "execute_result"
    }
   ],
   "source": [
    "rf_acc8=rf_cf8.diagonal().sum()/rf_cf8.sum()*100\n",
    "rf_acc8"
   ]
  },
  {
   "cell_type": "code",
   "execution_count": 171,
   "id": "ea1f1171",
   "metadata": {},
   "outputs": [
    {
     "name": "stdout",
     "output_type": "stream",
     "text": [
      "              precision    recall  f1-score   support\n",
      "\n",
      "           0       1.00      0.97      0.99     10026\n",
      "           1       0.98      1.00      0.99     10030\n",
      "\n",
      "    accuracy                           0.99     20056\n",
      "   macro avg       0.99      0.99      0.99     20056\n",
      "weighted avg       0.99      0.99      0.99     20056\n",
      "\n"
     ]
    }
   ],
   "source": [
    "print(classification_report(y8_te,rf_p8))"
   ]
  },
  {
   "cell_type": "code",
   "execution_count": 172,
   "id": "f2cbcebb",
   "metadata": {},
   "outputs": [
    {
     "data": {
      "text/plain": [
       "XGBClassifier(base_score=None, booster=None, callbacks=None,\n",
       "              colsample_bylevel=None, colsample_bynode=None,\n",
       "              colsample_bytree=None, early_stopping_rounds=None,\n",
       "              enable_categorical=False, eval_metric=None, feature_types=None,\n",
       "              gamma=None, gpu_id=None, grow_policy=None, importance_type=None,\n",
       "              interaction_constraints=None, learning_rate=None, max_bin=None,\n",
       "              max_cat_threshold=None, max_cat_to_onehot=None,\n",
       "              max_delta_step=None, max_depth=None, max_leaves=None,\n",
       "              min_child_weight=None, missing=nan, monotone_constraints=None,\n",
       "              n_estimators=100, n_jobs=None, num_parallel_tree=None,\n",
       "              predictor=None, random_state=None, ...)"
      ]
     },
     "execution_count": 172,
     "metadata": {},
     "output_type": "execute_result"
    }
   ],
   "source": [
    "#xgb\n",
    "xgb.fit(x8_tr,y8_tr)"
   ]
  },
  {
   "cell_type": "code",
   "execution_count": 173,
   "id": "7731232b",
   "metadata": {},
   "outputs": [],
   "source": [
    "xgb_p8=xgb.predict(x8_te)"
   ]
  },
  {
   "cell_type": "code",
   "execution_count": 175,
   "id": "70115dfd",
   "metadata": {},
   "outputs": [
    {
     "data": {
      "text/plain": [
       "array([[8178, 1848],\n",
       "       [ 396, 9634]], dtype=int64)"
      ]
     },
     "execution_count": 175,
     "metadata": {},
     "output_type": "execute_result"
    }
   ],
   "source": [
    "xgb_cf8=confusion_matrix(y8_te,xgb_p8)\n",
    "xgb_cf8"
   ]
  },
  {
   "cell_type": "code",
   "execution_count": 176,
   "id": "f7abc1c2",
   "metadata": {},
   "outputs": [
    {
     "data": {
      "text/plain": [
       "88.81132828081371"
      ]
     },
     "execution_count": 176,
     "metadata": {},
     "output_type": "execute_result"
    }
   ],
   "source": [
    "xgb_acc8=xgb_cf8.diagonal().sum()/xgb_cf8.sum()*100\n",
    "xgb_acc8"
   ]
  },
  {
   "cell_type": "code",
   "execution_count": 178,
   "id": "b4aa39a5",
   "metadata": {},
   "outputs": [
    {
     "name": "stdout",
     "output_type": "stream",
     "text": [
      "              precision    recall  f1-score   support\n",
      "\n",
      "           0       0.95      0.82      0.88     10026\n",
      "           1       0.84      0.96      0.90     10030\n",
      "\n",
      "    accuracy                           0.89     20056\n",
      "   macro avg       0.90      0.89      0.89     20056\n",
      "weighted avg       0.90      0.89      0.89     20056\n",
      "\n"
     ]
    }
   ],
   "source": [
    "print(classification_report(y8_te,xgb_p8))"
   ]
  },
  {
   "cell_type": "markdown",
   "id": "975625e1",
   "metadata": {},
   "source": [
    "# SVM,KNN, Naive Bayes-IMBLearn - Oversampling"
   ]
  },
  {
   "cell_type": "code",
   "execution_count": null,
   "id": "7fdbfd2c",
   "metadata": {},
   "outputs": [],
   "source": []
  },
  {
   "cell_type": "code",
   "execution_count": null,
   "id": "6e6684d2",
   "metadata": {},
   "outputs": [],
   "source": []
  },
  {
   "cell_type": "code",
   "execution_count": null,
   "id": "6b601036",
   "metadata": {},
   "outputs": [],
   "source": []
  },
  {
   "cell_type": "code",
   "execution_count": null,
   "id": "041ec0b7",
   "metadata": {},
   "outputs": [],
   "source": []
  },
  {
   "cell_type": "code",
   "execution_count": null,
   "id": "358d3a3f",
   "metadata": {},
   "outputs": [],
   "source": []
  },
  {
   "cell_type": "code",
   "execution_count": null,
   "id": "e34bb56f",
   "metadata": {},
   "outputs": [],
   "source": []
  },
  {
   "cell_type": "code",
   "execution_count": null,
   "id": "0740aa16",
   "metadata": {},
   "outputs": [],
   "source": []
  },
  {
   "cell_type": "markdown",
   "id": "70ea82b0",
   "metadata": {},
   "source": [
    "# SMOTE"
   ]
  },
  {
   "cell_type": "code",
   "execution_count": 179,
   "id": "b27c2956",
   "metadata": {},
   "outputs": [],
   "source": [
    "#Synthetic Minority Oversampling Techniques-Full form of SMOTE "
   ]
  },
  {
   "cell_type": "code",
   "execution_count": 181,
   "id": "ad7390f5",
   "metadata": {},
   "outputs": [],
   "source": [
    "hr_x=data_train.iloc[:,0:-1]\n",
    "hr_y=data_train.iloc[:,-1]"
   ]
  },
  {
   "cell_type": "code",
   "execution_count": 182,
   "id": "137f05b7",
   "metadata": {},
   "outputs": [
    {
     "data": {
      "text/plain": [
       "0    50140\n",
       "1     4668\n",
       "Name: is_promoted, dtype: int64"
      ]
     },
     "execution_count": 182,
     "metadata": {},
     "output_type": "execute_result"
    }
   ],
   "source": [
    "hr_y.value_counts()"
   ]
  },
  {
   "cell_type": "code",
   "execution_count": 185,
   "id": "ab7c066b",
   "metadata": {},
   "outputs": [],
   "source": [
    "from imblearn.over_sampling import SMOTE\n",
    "smote=SMOTE()"
   ]
  },
  {
   "cell_type": "code",
   "execution_count": 186,
   "id": "4169c8e7",
   "metadata": {},
   "outputs": [],
   "source": [
    "x_smote,y_smote=smote.fit_resample(hr_x,hr_y)"
   ]
  },
  {
   "cell_type": "code",
   "execution_count": 187,
   "id": "0fac9d2c",
   "metadata": {},
   "outputs": [
    {
     "data": {
      "text/plain": [
       "((100280, 12), (100280,))"
      ]
     },
     "execution_count": 187,
     "metadata": {},
     "output_type": "execute_result"
    }
   ],
   "source": [
    "x_smote.shape,y_smote.shape"
   ]
  },
  {
   "cell_type": "code",
   "execution_count": 188,
   "id": "82e2351a",
   "metadata": {},
   "outputs": [
    {
     "data": {
      "text/plain": [
       "0    50140\n",
       "1    50140\n",
       "Name: is_promoted, dtype: int64"
      ]
     },
     "execution_count": 188,
     "metadata": {},
     "output_type": "execute_result"
    }
   ],
   "source": [
    "y_smote.value_counts()"
   ]
  },
  {
   "cell_type": "code",
   "execution_count": 214,
   "id": "73999ba8",
   "metadata": {},
   "outputs": [
    {
     "data": {
      "text/plain": [
       "((80224, 12), (20056, 12), (80224,), (20056,))"
      ]
     },
     "execution_count": 214,
     "metadata": {},
     "output_type": "execute_result"
    }
   ],
   "source": [
    "xtr9,xte9,ytr9,yte9=train_test_split(x_smote,y_smote,test_size=0.2,random_state=100)\n",
    "xtr9.shape,xte9.shape,ytr9.shape,yte9.shape"
   ]
  },
  {
   "cell_type": "code",
   "execution_count": 215,
   "id": "00f3f5c2",
   "metadata": {},
   "outputs": [
    {
     "data": {
      "text/plain": [
       "LogisticRegression()"
      ]
     },
     "execution_count": 215,
     "metadata": {},
     "output_type": "execute_result"
    }
   ],
   "source": [
    "#logistic regression\n",
    "lg.fit(xtr9,ytr9)"
   ]
  },
  {
   "cell_type": "code",
   "execution_count": 216,
   "id": "70ac48fc",
   "metadata": {},
   "outputs": [],
   "source": [
    "p9=lg.predict(xte9)"
   ]
  },
  {
   "cell_type": "code",
   "execution_count": 217,
   "id": "51564518",
   "metadata": {},
   "outputs": [
    {
     "data": {
      "text/plain": [
       "array([[7067, 2959],\n",
       "       [2683, 7347]], dtype=int64)"
      ]
     },
     "execution_count": 217,
     "metadata": {},
     "output_type": "execute_result"
    }
   ],
   "source": [
    "cf9=confusion_matrix(yte9,p9)\n",
    "cf9"
   ]
  },
  {
   "cell_type": "code",
   "execution_count": 218,
   "id": "690c1267",
   "metadata": {},
   "outputs": [
    {
     "data": {
      "text/plain": [
       "71.86876745113682"
      ]
     },
     "execution_count": 218,
     "metadata": {},
     "output_type": "execute_result"
    }
   ],
   "source": [
    "acc9=cf9.diagonal().sum()/cf9.sum()*100\n",
    "acc9"
   ]
  },
  {
   "cell_type": "code",
   "execution_count": 219,
   "id": "b7035f35",
   "metadata": {},
   "outputs": [
    {
     "name": "stdout",
     "output_type": "stream",
     "text": [
      "              precision    recall  f1-score   support\n",
      "\n",
      "           0       0.72      0.70      0.71     10026\n",
      "           1       0.71      0.73      0.72     10030\n",
      "\n",
      "    accuracy                           0.72     20056\n",
      "   macro avg       0.72      0.72      0.72     20056\n",
      "weighted avg       0.72      0.72      0.72     20056\n",
      "\n"
     ]
    }
   ],
   "source": [
    "print(classification_report(yte9,p9))"
   ]
  },
  {
   "cell_type": "code",
   "execution_count": 220,
   "id": "1d6214d7",
   "metadata": {},
   "outputs": [
    {
     "data": {
      "text/plain": [
       "DecisionTreeClassifier()"
      ]
     },
     "execution_count": 220,
     "metadata": {},
     "output_type": "execute_result"
    }
   ],
   "source": [
    "#DT\n",
    "dt.fit(xtr9,ytr9)"
   ]
  },
  {
   "cell_type": "code",
   "execution_count": 221,
   "id": "cbce3434",
   "metadata": {},
   "outputs": [],
   "source": [
    "dt_p9=dt.predict(xte9)"
   ]
  },
  {
   "cell_type": "code",
   "execution_count": 222,
   "id": "76b76eda",
   "metadata": {},
   "outputs": [
    {
     "data": {
      "text/plain": [
       "array([[9128,  898],\n",
       "       [ 542, 9488]], dtype=int64)"
      ]
     },
     "execution_count": 222,
     "metadata": {},
     "output_type": "execute_result"
    }
   ],
   "source": [
    "dt_cf9=confusion_matrix(yte9,dt_p9)\n",
    "dt_cf9"
   ]
  },
  {
   "cell_type": "code",
   "execution_count": 223,
   "id": "e67060a8",
   "metadata": {},
   "outputs": [
    {
     "data": {
      "text/plain": [
       "92.8201037096131"
      ]
     },
     "execution_count": 223,
     "metadata": {},
     "output_type": "execute_result"
    }
   ],
   "source": [
    "dt_acc9=dt_cf9.diagonal().sum()/dt_cf9.sum()*100\n",
    "dt_acc9"
   ]
  },
  {
   "cell_type": "code",
   "execution_count": 224,
   "id": "e69c2c85",
   "metadata": {},
   "outputs": [
    {
     "name": "stdout",
     "output_type": "stream",
     "text": [
      "              precision    recall  f1-score   support\n",
      "\n",
      "           0       0.94      0.91      0.93     10026\n",
      "           1       0.91      0.95      0.93     10030\n",
      "\n",
      "    accuracy                           0.93     20056\n",
      "   macro avg       0.93      0.93      0.93     20056\n",
      "weighted avg       0.93      0.93      0.93     20056\n",
      "\n"
     ]
    }
   ],
   "source": [
    "print(classification_report(yte9,dt_p9))"
   ]
  },
  {
   "cell_type": "code",
   "execution_count": 225,
   "id": "16e0939b",
   "metadata": {},
   "outputs": [
    {
     "data": {
      "text/plain": [
       "RandomForestClassifier()"
      ]
     },
     "execution_count": 225,
     "metadata": {},
     "output_type": "execute_result"
    }
   ],
   "source": [
    "#RF\n",
    "rf.fit(xtr9,ytr9)"
   ]
  },
  {
   "cell_type": "code",
   "execution_count": 226,
   "id": "ba321331",
   "metadata": {},
   "outputs": [],
   "source": [
    "rf_p9=rf.predict(xte9)"
   ]
  },
  {
   "cell_type": "code",
   "execution_count": 227,
   "id": "ad6dee1d",
   "metadata": {},
   "outputs": [
    {
     "data": {
      "text/plain": [
       "array([[9565,  461],\n",
       "       [ 475, 9555]], dtype=int64)"
      ]
     },
     "execution_count": 227,
     "metadata": {},
     "output_type": "execute_result"
    }
   ],
   "source": [
    "rf_cf9=confusion_matrix(yte9,rf_p9)\n",
    "rf_cf9"
   ]
  },
  {
   "cell_type": "code",
   "execution_count": 228,
   "id": "24afdb6e",
   "metadata": {},
   "outputs": [
    {
     "data": {
      "text/plain": [
       "95.3330674112485"
      ]
     },
     "execution_count": 228,
     "metadata": {},
     "output_type": "execute_result"
    }
   ],
   "source": [
    "rf_acc9=rf_cf9.diagonal().sum()/rf_cf9.sum()*100\n",
    "rf_acc9"
   ]
  },
  {
   "cell_type": "code",
   "execution_count": 229,
   "id": "69b39fa4",
   "metadata": {},
   "outputs": [
    {
     "name": "stdout",
     "output_type": "stream",
     "text": [
      "              precision    recall  f1-score   support\n",
      "\n",
      "           0       0.95      0.95      0.95     10026\n",
      "           1       0.95      0.95      0.95     10030\n",
      "\n",
      "    accuracy                           0.95     20056\n",
      "   macro avg       0.95      0.95      0.95     20056\n",
      "weighted avg       0.95      0.95      0.95     20056\n",
      "\n"
     ]
    }
   ],
   "source": [
    "print(classification_report(yte9,rf_p9))"
   ]
  },
  {
   "cell_type": "code",
   "execution_count": 230,
   "id": "fd598d41",
   "metadata": {},
   "outputs": [
    {
     "data": {
      "text/plain": [
       "XGBClassifier(base_score=None, booster=None, callbacks=None,\n",
       "              colsample_bylevel=None, colsample_bynode=None,\n",
       "              colsample_bytree=None, early_stopping_rounds=None,\n",
       "              enable_categorical=False, eval_metric=None, feature_types=None,\n",
       "              gamma=None, gpu_id=None, grow_policy=None, importance_type=None,\n",
       "              interaction_constraints=None, learning_rate=None, max_bin=None,\n",
       "              max_cat_threshold=None, max_cat_to_onehot=None,\n",
       "              max_delta_step=None, max_depth=None, max_leaves=None,\n",
       "              min_child_weight=None, missing=nan, monotone_constraints=None,\n",
       "              n_estimators=100, n_jobs=None, num_parallel_tree=None,\n",
       "              predictor=None, random_state=None, ...)"
      ]
     },
     "execution_count": 230,
     "metadata": {},
     "output_type": "execute_result"
    }
   ],
   "source": [
    "#xgb\n",
    "xgb.fit(xtr9,ytr9)"
   ]
  },
  {
   "cell_type": "code",
   "execution_count": 231,
   "id": "fbfb61d2",
   "metadata": {},
   "outputs": [],
   "source": [
    "xgb_p9=xgb.predict(xte9)"
   ]
  },
  {
   "cell_type": "code",
   "execution_count": 232,
   "id": "4a6f0d10",
   "metadata": {},
   "outputs": [
    {
     "data": {
      "text/plain": [
       "array([[9300,  726],\n",
       "       [ 936, 9094]], dtype=int64)"
      ]
     },
     "execution_count": 232,
     "metadata": {},
     "output_type": "execute_result"
    }
   ],
   "source": [
    "xgb_cf9=confusion_matrix(yte9,xgb_p9)\n",
    "xgb_cf9"
   ]
  },
  {
   "cell_type": "code",
   "execution_count": 233,
   "id": "50df4b96",
   "metadata": {},
   "outputs": [
    {
     "data": {
      "text/plain": [
       "91.71320303151177"
      ]
     },
     "execution_count": 233,
     "metadata": {},
     "output_type": "execute_result"
    }
   ],
   "source": [
    "xgb_acc9=xgb_cf9.diagonal().sum()/xgb_cf9.sum()*100\n",
    "xgb_acc9"
   ]
  },
  {
   "cell_type": "code",
   "execution_count": 234,
   "id": "d5544e57",
   "metadata": {},
   "outputs": [
    {
     "name": "stdout",
     "output_type": "stream",
     "text": [
      "              precision    recall  f1-score   support\n",
      "\n",
      "           0       0.91      0.93      0.92     10026\n",
      "           1       0.93      0.91      0.92     10030\n",
      "\n",
      "    accuracy                           0.92     20056\n",
      "   macro avg       0.92      0.92      0.92     20056\n",
      "weighted avg       0.92      0.92      0.92     20056\n",
      "\n"
     ]
    }
   ],
   "source": [
    "print(classification_report(yte9,xgb_p9))"
   ]
  },
  {
   "cell_type": "markdown",
   "id": "55c70c65",
   "metadata": {},
   "source": [
    "# NEARMISS"
   ]
  },
  {
   "cell_type": "code",
   "execution_count": 235,
   "id": "7dae0e6a",
   "metadata": {},
   "outputs": [],
   "source": [
    "from imblearn.under_sampling import NearMiss\n",
    "nm=NearMiss()"
   ]
  },
  {
   "cell_type": "code",
   "execution_count": 212,
   "id": "e249b5f5",
   "metadata": {},
   "outputs": [],
   "source": [
    "x_nm,y_nm=nm.fit_resample(hr_x,hr_y)"
   ]
  },
  {
   "cell_type": "code",
   "execution_count": 236,
   "id": "6994c090",
   "metadata": {},
   "outputs": [
    {
     "data": {
      "text/plain": [
       "((9336, 12), (9336,))"
      ]
     },
     "execution_count": 236,
     "metadata": {},
     "output_type": "execute_result"
    }
   ],
   "source": [
    "x_nm.shape,y_nm.shape"
   ]
  },
  {
   "cell_type": "code",
   "execution_count": 238,
   "id": "4593ed5f",
   "metadata": {},
   "outputs": [
    {
     "data": {
      "text/plain": [
       "((7468, 12), (1868, 12), (7468,), (1868,))"
      ]
     },
     "execution_count": 238,
     "metadata": {},
     "output_type": "execute_result"
    }
   ],
   "source": [
    "xtr10,xte10,ytr10,yte10=train_test_split(x_nm,y_nm,test_size=0.2,random_state=100)\n",
    "xtr10.shape,xte10.shape,xtr10.shape,yte10.shape"
   ]
  },
  {
   "cell_type": "code",
   "execution_count": 240,
   "id": "dd5763e9",
   "metadata": {},
   "outputs": [
    {
     "data": {
      "text/plain": [
       "LogisticRegression()"
      ]
     },
     "execution_count": 240,
     "metadata": {},
     "output_type": "execute_result"
    }
   ],
   "source": [
    "#Logistic Reg\n",
    "lg.fit(xtr10,ytr10)\n",
    "lg_p10=lg.predict(xte10)\n",
    "lg_cf10=confusion_matrix(yte10,lg_p10)\n",
    "lg_cf10"
   ]
  },
  {
   "cell_type": "code",
   "execution_count": 245,
   "id": "570f23bf",
   "metadata": {},
   "outputs": [
    {
     "name": "stdout",
     "output_type": "stream",
     "text": [
      "              precision    recall  f1-score   support\n",
      "\n",
      "           0       0.65      0.76      0.70       941\n",
      "           1       0.71      0.59      0.64       927\n",
      "\n",
      "    accuracy                           0.68      1868\n",
      "   macro avg       0.68      0.68      0.67      1868\n",
      "weighted avg       0.68      0.68      0.67      1868\n",
      "\n"
     ]
    }
   ],
   "source": [
    "lg_acc10=lg_cf10.diagonal().sum()/lg_cf10.sum()*100\n",
    "lg_acc10\n",
    "print(classification_report(yte10,lg_p10))"
   ]
  },
  {
   "cell_type": "code",
   "execution_count": 246,
   "id": "3088c54e",
   "metadata": {},
   "outputs": [
    {
     "data": {
      "text/plain": [
       "array([[688, 253],\n",
       "       [252, 675]], dtype=int64)"
      ]
     },
     "execution_count": 246,
     "metadata": {},
     "output_type": "execute_result"
    }
   ],
   "source": [
    "#Dt\n",
    "dt.fit(xtr10,ytr10)\n",
    "dt_p10=dt.predict(xte10)\n",
    "dt_cf10=confusion_matrix(yte10,dt_p10)\n",
    "dt_cf10"
   ]
  },
  {
   "cell_type": "code",
   "execution_count": 248,
   "id": "cf352ef8",
   "metadata": {},
   "outputs": [
    {
     "name": "stdout",
     "output_type": "stream",
     "text": [
      "              precision    recall  f1-score   support\n",
      "\n",
      "           0       0.73      0.73      0.73       941\n",
      "           1       0.73      0.73      0.73       927\n",
      "\n",
      "    accuracy                           0.73      1868\n",
      "   macro avg       0.73      0.73      0.73      1868\n",
      "weighted avg       0.73      0.73      0.73      1868\n",
      "\n"
     ]
    }
   ],
   "source": [
    "dt_acc10=dt_cf10.diagonal().sum()/dt_cf10.sum()*100\n",
    "dt_acc10\n",
    "print(classification_report(yte10,dt_p10))"
   ]
  },
  {
   "cell_type": "code",
   "execution_count": 250,
   "id": "a5230b06",
   "metadata": {},
   "outputs": [
    {
     "data": {
      "text/plain": [
       "array([[767, 174],\n",
       "       [232, 695]], dtype=int64)"
      ]
     },
     "execution_count": 250,
     "metadata": {},
     "output_type": "execute_result"
    }
   ],
   "source": [
    "#RF\n",
    "rf.fit(xtr10,ytr10)\n",
    "rf_p10=rf.predict(xte10)\n",
    "rf_cf10=confusion_matrix(yte10,rf_p10)\n",
    "rf_cf10"
   ]
  },
  {
   "cell_type": "code",
   "execution_count": 251,
   "id": "ac575359",
   "metadata": {},
   "outputs": [
    {
     "name": "stdout",
     "output_type": "stream",
     "text": [
      "              precision    recall  f1-score   support\n",
      "\n",
      "           0       0.77      0.82      0.79       941\n",
      "           1       0.80      0.75      0.77       927\n",
      "\n",
      "    accuracy                           0.78      1868\n",
      "   macro avg       0.78      0.78      0.78      1868\n",
      "weighted avg       0.78      0.78      0.78      1868\n",
      "\n"
     ]
    }
   ],
   "source": [
    "rf_acc10=lg_cf10.diagonal().sum()/rf_cf10.sum()*100\n",
    "rf_acc10\n",
    "print(classification_report(yte10,rf_p10))"
   ]
  },
  {
   "cell_type": "code",
   "execution_count": 255,
   "id": "ba19a257",
   "metadata": {},
   "outputs": [
    {
     "data": {
      "text/plain": [
       "array([[816, 125],\n",
       "       [206, 721]], dtype=int64)"
      ]
     },
     "execution_count": 255,
     "metadata": {},
     "output_type": "execute_result"
    }
   ],
   "source": [
    "#XGB\n",
    "xgb.fit(xtr10,ytr10)\n",
    "xgb_p10=xgb.predict(xte10)\n",
    "xgb_cf10=confusion_matrix(yte10,xgb_p10)\n",
    "xgb_cf10"
   ]
  },
  {
   "cell_type": "code",
   "execution_count": 256,
   "id": "853e7daa",
   "metadata": {},
   "outputs": [
    {
     "name": "stdout",
     "output_type": "stream",
     "text": [
      "              precision    recall  f1-score   support\n",
      "\n",
      "           0       0.80      0.87      0.83       941\n",
      "           1       0.85      0.78      0.81       927\n",
      "\n",
      "    accuracy                           0.82      1868\n",
      "   macro avg       0.83      0.82      0.82      1868\n",
      "weighted avg       0.83      0.82      0.82      1868\n",
      "\n"
     ]
    }
   ],
   "source": [
    "xgb_acc10=xgb_cf10.diagonal().sum()/xgb_cf10.sum()*100\n",
    "xgb_acc10\n",
    "print(classification_report(yte10,xgb_p10))"
   ]
  },
  {
   "cell_type": "code",
   "execution_count": 257,
   "id": "e8d9eec3",
   "metadata": {},
   "outputs": [],
   "source": [
    "#SVM,KNN,Naive Bayes"
   ]
  },
  {
   "cell_type": "code",
   "execution_count": null,
   "id": "666eddd9",
   "metadata": {},
   "outputs": [],
   "source": []
  },
  {
   "cell_type": "code",
   "execution_count": null,
   "id": "17943d72",
   "metadata": {},
   "outputs": [],
   "source": []
  }
 ],
 "metadata": {
  "kernelspec": {
   "display_name": "Python 3 (ipykernel)",
   "language": "python",
   "name": "python3"
  },
  "language_info": {
   "codemirror_mode": {
    "name": "ipython",
    "version": 3
   },
   "file_extension": ".py",
   "mimetype": "text/x-python",
   "name": "python",
   "nbconvert_exporter": "python",
   "pygments_lexer": "ipython3",
   "version": "3.9.13"
  }
 },
 "nbformat": 4,
 "nbformat_minor": 5
}
